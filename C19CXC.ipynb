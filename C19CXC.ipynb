{
  "nbformat": 4,
  "nbformat_minor": 0,
  "metadata": {
    "colab": {
      "name": "C19CXC.ipynb",
      "provenance": [],
      "collapsed_sections": [],
      "toc_visible": true
    },
    "kernelspec": {
      "name": "python3",
      "display_name": "Python 3"
    },
    "accelerator": "GPU"
  },
  "cells": [
    {
      "cell_type": "markdown",
      "metadata": {
        "id": "lpcNCyd9WZFQ"
      },
      "source": [
        "# **C19CXC**\n",
        "## COVID-19 Chest X-Ray Classifier\n",
        "##### Arman Jafarnezhad\n",
        "---\n",
        "\n"
      ]
    },
    {
      "cell_type": "markdown",
      "metadata": {
        "id": "Vk-T0t8bXDLa"
      },
      "source": [
        "## What are Coronaviruses?\n",
        "Coronaviruses are a group of related RNA viruses that cause diseases in mammals and birds. In humans and birds, they cause respiratory tract infections that can range from mild to lethal. Mild illnesses in humans include some cases of the common cold (which is also caused by other viruses, predominantly rhinoviruses), while more lethal varieties can cause SARS, MERS, and COVID-19. In cows and pigs they cause diarrhea, while in mice they cause hepatitis and encephalomyelitis. Generally, there were no vaccines or antiviral drugs available for use against coronaviruses until the COVID-19 pandemic which broke out in late 2019."
      ]
    },
    {
      "cell_type": "markdown",
      "metadata": {
        "id": "0FBBUYB0gsTQ"
      },
      "source": [
        "## Coronavirus Symptoms & Diagnosis\n",
        "The most common symptoms of Covid-19 are fever, fatigue, and dry cough. The sufferer may also have other symptoms such as bruising, runny nose, sore throat or diarrhea. But how does a doctor diagnose Coronavirus? For example, checking your body temperature is the easiest way to diagnose this disease, which is not accurate at all. Another way to diagnose the disease is to have a chest scan. That is, the chest is photographed and the health of the lungs is carefully monitored. Therefore, in this project, we develop a convolutional neural network that uses chest CT images to detect Coronavirus with deep learning."
      ]
    },
    {
      "cell_type": "markdown",
      "metadata": {
        "id": "gTv0ayLu_Nsf"
      },
      "source": [
        "# **Data Collection**\n",
        "We need data to diagnose Coronavirus with deep learning. The Corona-positive CT scan dataset that we will use for this training was compiled by Joseph Cohen, PhD, University of Montreal. For Corona-negative data or normal samples we use the Chest X-Ray Images database from Kaggle. Eventually we will have a database with which we can train a deep network. But how do we build this database? The next section shows how to build our starting database."
      ]
    },
    {
      "cell_type": "markdown",
      "metadata": {
        "id": "HSq5-DLR_fXl"
      },
      "source": [
        "## Create necessary folders"
      ]
    },
    {
      "cell_type": "code",
      "metadata": {
        "id": "VL9QTzwsPu2z"
      },
      "source": [
        "! mkdir dataset\n",
        "! mkdir /content/dataset/train\n",
        "! mkdir /content/dataset/train/covid\n",
        "! mkdir /content/dataset/train/normal\n",
        "! mkdir /content/dataset/test\n",
        "! mkdir /content/dataset/test/covid\n",
        "! mkdir /content/dataset/test/normal"
      ],
      "execution_count": null,
      "outputs": []
    },
    {
      "cell_type": "markdown",
      "metadata": {
        "id": "DsLAZmfEhozP"
      },
      "source": [
        "## Corona-positive dataset"
      ]
    },
    {
      "cell_type": "code",
      "metadata": {
        "id": "VPw6cHEZO-SJ",
        "colab": {
          "base_uri": "https://localhost:8080/"
        },
        "outputId": "cc4659d0-90ed-4267-909b-188a50a69bc2"
      },
      "source": [
        "! git clone https://github.com/ieee8023/covid-chestxray-dataset"
      ],
      "execution_count": null,
      "outputs": [
        {
          "output_type": "stream",
          "text": [
            "Cloning into 'covid-chestxray-dataset'...\n",
            "remote: Enumerating objects: 8, done.\u001b[K\n",
            "remote: Counting objects: 100% (8/8), done.\u001b[K\n",
            "remote: Compressing objects: 100% (8/8), done.\u001b[K\n",
            "remote: Total 3622 (delta 3), reused 2 (delta 0), pack-reused 3614\u001b[K\n",
            "Receiving objects: 100% (3622/3622), 632.88 MiB | 44.19 MiB/s, done.\n",
            "Resolving deltas: 100% (1436/1436), done.\n",
            "Checking out files: 100% (1173/1173), done.\n"
          ],
          "name": "stdout"
        }
      ]
    },
    {
      "cell_type": "markdown",
      "metadata": {
        "id": "ltMFV5BLAQIG"
      },
      "source": [
        "## Corona-negative dataset\n",
        "From [kaggle - my account](https://www.kaggle.com/me/account) press **create new token api** and upload downloaded file here."
      ]
    },
    {
      "cell_type": "code",
      "metadata": {
        "id": "_lo53zC6SAIR",
        "colab": {
          "resources": {
            "http://localhost:8080/nbextensions/google.colab/files.js": {
              "data": "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",
              "ok": true,
              "headers": [
                [
                  "content-type",
                  "application/javascript"
                ]
              ],
              "status": 200,
              "status_text": ""
            }
          },
          "base_uri": "https://localhost:8080/",
          "height": 291
        },
        "outputId": "335b9a41-60bc-4baa-da32-2495fee3c573"
      },
      "source": [
        "! pip install kaggle\n",
        "from google.colab import files\n",
        "files.upload()"
      ],
      "execution_count": null,
      "outputs": [
        {
          "output_type": "stream",
          "text": [
            "Requirement already satisfied: kaggle in /usr/local/lib/python3.6/dist-packages (1.5.9)\n",
            "Requirement already satisfied: tqdm in /usr/local/lib/python3.6/dist-packages (from kaggle) (4.41.1)\n",
            "Requirement already satisfied: slugify in /usr/local/lib/python3.6/dist-packages (from kaggle) (0.0.1)\n",
            "Requirement already satisfied: six>=1.10 in /usr/local/lib/python3.6/dist-packages (from kaggle) (1.15.0)\n",
            "Requirement already satisfied: urllib3 in /usr/local/lib/python3.6/dist-packages (from kaggle) (1.24.3)\n",
            "Requirement already satisfied: python-dateutil in /usr/local/lib/python3.6/dist-packages (from kaggle) (2.8.1)\n",
            "Requirement already satisfied: requests in /usr/local/lib/python3.6/dist-packages (from kaggle) (2.23.0)\n",
            "Requirement already satisfied: python-slugify in /usr/local/lib/python3.6/dist-packages (from kaggle) (4.0.1)\n",
            "Requirement already satisfied: certifi in /usr/local/lib/python3.6/dist-packages (from kaggle) (2020.11.8)\n",
            "Requirement already satisfied: idna<3,>=2.5 in /usr/local/lib/python3.6/dist-packages (from requests->kaggle) (2.10)\n",
            "Requirement already satisfied: chardet<4,>=3.0.2 in /usr/local/lib/python3.6/dist-packages (from requests->kaggle) (3.0.4)\n",
            "Requirement already satisfied: text-unidecode>=1.3 in /usr/local/lib/python3.6/dist-packages (from python-slugify->kaggle) (1.3)\n"
          ],
          "name": "stdout"
        },
        {
          "output_type": "display_data",
          "data": {
            "text/html": [
              "\n",
              "     <input type=\"file\" id=\"files-a95ef63d-35af-4665-bb5a-f297d4f688c4\" name=\"files[]\" multiple disabled\n",
              "        style=\"border:none\" />\n",
              "     <output id=\"result-a95ef63d-35af-4665-bb5a-f297d4f688c4\">\n",
              "      Upload widget is only available when the cell has been executed in the\n",
              "      current browser session. Please rerun this cell to enable.\n",
              "      </output>\n",
              "      <script src=\"/nbextensions/google.colab/files.js\"></script> "
            ],
            "text/plain": [
              "<IPython.core.display.HTML object>"
            ]
          },
          "metadata": {
            "tags": []
          }
        },
        {
          "output_type": "stream",
          "text": [
            "Saving kaggle.json to kaggle.json\n"
          ],
          "name": "stdout"
        },
        {
          "output_type": "execute_result",
          "data": {
            "text/plain": [
              "{'kaggle.json': b'{\"username\":\"armanjr\",\"key\":\"de6ccd0f2ae4d4073ec1bdf8562db158\"}'}"
            ]
          },
          "metadata": {
            "tags": []
          },
          "execution_count": 3
        }
      ]
    },
    {
      "cell_type": "code",
      "metadata": {
        "id": "9QFcJfhqSRv8",
        "colab": {
          "base_uri": "https://localhost:8080/"
        },
        "outputId": "4d989a72-e650-4ab6-b070-dd277790a69f"
      },
      "source": [
        "# --- Making root/kaggle folder ---\n",
        "! mkdir -p ~/.kaggle\n",
        "!cp kaggle.json ~/.kaggle/\n",
        "!chmod 600 ~/.kaggle/kaggle.json\n",
        "# --- Downloading data ---\n",
        "! kaggle datasets download -d paultimothymooney/chest-xray-pneumonia\n",
        "# --- Unzip ---\n",
        "!unzip -q /content/chest-xray-pneumonia.zip"
      ],
      "execution_count": null,
      "outputs": [
        {
          "output_type": "stream",
          "text": [
            "Downloading chest-xray-pneumonia.zip to /content\n",
            "100% 2.29G/2.29G [00:30<00:00, 24.7MB/s]\n",
            "100% 2.29G/2.29G [00:30<00:00, 80.9MB/s]\n"
          ],
          "name": "stdout"
        }
      ]
    },
    {
      "cell_type": "markdown",
      "metadata": {
        "id": "0ENy-aFwAe6a"
      },
      "source": [
        "## Extract Covid-positive cases"
      ]
    },
    {
      "cell_type": "code",
      "metadata": {
        "id": "qjYzBvMV-wNu"
      },
      "source": [
        "import pandas as pd\n",
        "\n",
        "csvPath = '/content/covid-chestxray-dataset/metadata.csv'\n",
        "df = pd.read_csv(csvPath)"
      ],
      "execution_count": null,
      "outputs": []
    },
    {
      "cell_type": "code",
      "metadata": {
        "id": "k7cC4zSkV_od",
        "colab": {
          "base_uri": "https://localhost:8080/"
        },
        "outputId": "48100dd4-e703-494c-9ca1-d154b5dc2866"
      },
      "source": [
        "df.__len__()"
      ],
      "execution_count": null,
      "outputs": [
        {
          "output_type": "execute_result",
          "data": {
            "text/plain": [
              "950"
            ]
          },
          "metadata": {
            "tags": []
          },
          "execution_count": 6
        }
      ]
    },
    {
      "cell_type": "code",
      "metadata": {
        "id": "gBP-mLlhTOo4"
      },
      "source": [
        "p_id = 0\n",
        "cov_fn = []\n",
        "allfiles = []\n",
        "\n",
        "for (i, row) in df.iterrows():\n",
        "\tn_id = row[\"patientid\"]\n",
        "\n",
        "\tif n_id != p_id and len(cov_fn)>0 and p_id != 0:\n",
        "\t\tallfiles.append(cov_fn)\n",
        "\t\tcov_fn = []\n",
        "\tif row[\"finding\"] == \"Pneumonia/Viral/COVID-19\" and row[\"view\"] == \"PA\":\n",
        "\t\tcov_fn.append(row[\"filename\"])\n",
        "\t\tp_id = row[\"patientid\"]"
      ],
      "execution_count": null,
      "outputs": []
    },
    {
      "cell_type": "markdown",
      "metadata": {
        "id": "jgkCE6i6A1Ul"
      },
      "source": [
        "## Split data to train and test"
      ]
    },
    {
      "cell_type": "code",
      "metadata": {
        "id": "ZMRRFuP6E4E3"
      },
      "source": [
        "from sklearn.model_selection import train_test_split\n",
        "\t\n",
        "x_train_c, x_test_c = train_test_split(allfiles, test_size=0.20, random_state=23)"
      ],
      "execution_count": null,
      "outputs": []
    },
    {
      "cell_type": "markdown",
      "metadata": {
        "id": "SiF5jPyIBF2o"
      },
      "source": [
        "## Save data to their folders"
      ]
    },
    {
      "cell_type": "code",
      "metadata": {
        "id": "69d8Klcx_C3Q"
      },
      "source": [
        "import shutil\n",
        "\n",
        "for img in sum(x_train_c, []):\n",
        "    src = '/content/covid-chestxray-dataset/images/' + img\n",
        "    dst = '/content/dataset/train/covid/' + img\n",
        "    shutil.copy2(src, dst)\n",
        "\n",
        "for img in sum(x_test_c, []):\n",
        "    src = '/content/covid-chestxray-dataset/images/' + img\n",
        "    dst = '/content/dataset/test/covid/' + img\n",
        "    shutil.copy2(src, dst)"
      ],
      "execution_count": null,
      "outputs": []
    },
    {
      "cell_type": "code",
      "metadata": {
        "id": "bkAHDv_VUJto"
      },
      "source": [
        "import os\n",
        "import cv2\n",
        "import random\n",
        "\n",
        "n_samples = len(sum(allfiles, []))\n",
        "kaggle_data_path = '/content/chest_xray/train/NORMAL/'\n",
        "output_path_train = '/content/dataset/train/normal/'\n",
        "output_path_test = '/content/dataset/test/normal/'\n",
        "\n",
        "filenames = os.listdir(kaggle_data_path)\n",
        "random.seed(42)\n",
        "filenames = random.sample(filenames, len(filenames))\n",
        "for i in range(n_samples):\n",
        "    n_image = cv2.imread(kaggle_data_path + filenames[i])\n",
        "    if i < sum(x_train_c, []).__len__():\n",
        "        cv2.imwrite(output_path_train + filenames[i], n_image)\n",
        "    else:\n",
        "        cv2.imwrite(output_path_test + filenames[i], n_image)"
      ],
      "execution_count": null,
      "outputs": []
    },
    {
      "cell_type": "markdown",
      "metadata": {
        "id": "xEypj6CLBW11"
      },
      "source": [
        "# **Data Preparation**\n",
        "To pre-process CT scan data, we must first read the data. To do this, we first import the `os` library. Then, with the help of `os.listdir`, we list all the files that are in the normal and Covid-19 data path. Now we can loop this list and read the images one by one with `opencv` and the `cv2.imread` command."
      ]
    },
    {
      "cell_type": "code",
      "metadata": {
        "id": "xcx1GbycEdsP"
      },
      "source": [
        "import os \n",
        "import numpy as np \n",
        "\n",
        "path = \"/content/dataset\" \n",
        "x_train_n = [] \n",
        "x_train_c = [] \n",
        "x_test_n = [] \n",
        "x_test_c = [] \n",
        "\n",
        "for p in os.listdir(path+ '/train/normal/'): \n",
        "    x_train_n.append(cv2.imread(path + '/train/normal/' + p)) \n",
        "for p in os.listdir(path+ '/train/covid/'): \n",
        "    x_train_c.append(cv2.imread(path + '/train/covid/' + p)) \n",
        "for p in os.listdir(path+ '/test/normal/'): \n",
        "    x_test_n.append(cv2.imread(path + '/test/normal/' + p)) \n",
        "for p in os.listdir(path+ '/test/covid/'): \n",
        "    x_test_c.append(cv2.imread(path + '/test/covid/' + p))"
      ],
      "execution_count": null,
      "outputs": []
    },
    {
      "cell_type": "markdown",
      "metadata": {
        "id": "9Z1mJpPsmH6Z"
      },
      "source": [
        "## Resize CT images\n",
        "After reading the data, we need to resize all the images to 224 × 224. Why we should resize to this dimension? The reason for these changes we want to make is the [VGG network](https://www.quora.com/What-is-the-VGG-neural-network).\n",
        "\n",
        "We want to use VGG network. As you know, the dimensions of the input images in VGG network are equal to 224 × 224. So we have to resize all our images to 224 × 224."
      ]
    },
    {
      "cell_type": "code",
      "metadata": {
        "id": "nYdYmFZ1E0Nx"
      },
      "source": [
        "for i in range(len(x_train_n)):\n",
        "    x_train_n[i] = cv2.resize(x_train_n[i], (224, 224))\n",
        "    x_train_c[i] = cv2.resize(x_train_c[i], (224, 224))\n",
        "\n",
        "for i in range(len(x_test_n)):\n",
        "    x_test_n[i] = cv2.resize(x_test_n[i], (224, 224))\n",
        "    x_test_c[i] = cv2.resize(x_test_c[i], (224, 224))"
      ],
      "execution_count": null,
      "outputs": []
    },
    {
      "cell_type": "markdown",
      "metadata": {
        "id": "s5V8ZDlQnXVS"
      },
      "source": [
        "These variables are `list` types. To make it easier for us to work with this data, we convert all 4 variables to `numpy-array`."
      ]
    },
    {
      "cell_type": "code",
      "metadata": {
        "id": "h1DuI0Y7GGRx"
      },
      "source": [
        "x_train_n = np.array(x_train_n)\n",
        "x_train_c = np.array(x_train_c)\n",
        "x_test_n = np.array(x_test_n)\n",
        "x_test_c = np.array(x_test_c)"
      ],
      "execution_count": null,
      "outputs": []
    },
    {
      "cell_type": "code",
      "metadata": {
        "id": "VsLZxeigF1Af",
        "colab": {
          "base_uri": "https://localhost:8080/"
        },
        "outputId": "40625dab-5576-4b61-907c-198eb893e4fe"
      },
      "source": [
        "print(x_train_n.shape) \n",
        "print(x_train_c.shape) \n",
        "print(x_test_n.shape) \n",
        "print(x_test_c.shape)"
      ],
      "execution_count": null,
      "outputs": [
        {
          "output_type": "stream",
          "text": [
            "(150, 224, 224, 3)\n",
            "(150, 224, 224, 3)\n",
            "(46, 224, 224, 3)\n",
            "(46, 224, 224, 3)\n"
          ],
          "name": "stdout"
        }
      ]
    },
    {
      "cell_type": "markdown",
      "metadata": {
        "id": "d2IAQIyZntRe"
      },
      "source": [
        "## Combine Covid and Normal data\n"
      ]
    },
    {
      "cell_type": "code",
      "metadata": {
        "id": "4ZdxezcRHL9N"
      },
      "source": [
        "x_train = np.concatenate((x_train_n, x_train_c))\n",
        "x_test = np.concatenate((x_test_n, x_test_c))"
      ],
      "execution_count": null,
      "outputs": []
    },
    {
      "cell_type": "markdown",
      "metadata": {
        "id": "8JRDyHvQoFKg"
      },
      "source": [
        "## Change image ranges\n",
        "We want all our data to be between 0 and 1."
      ]
    },
    {
      "cell_type": "code",
      "metadata": {
        "id": "C9poWyDSpuDJ"
      },
      "source": [
        "x_train = x_train / 255.0\n",
        "x_test = x_test / 255.0"
      ],
      "execution_count": null,
      "outputs": []
    },
    {
      "cell_type": "markdown",
      "metadata": {
        "id": "_RW2s6Cxp9Sm"
      },
      "source": [
        "## Data labels\n",
        "So far, our data is ready to go, but one thing is missing. We do not have a label. Labeling this data is simple. Each image is either Covid-19 or healthy. So we have two states. The labels are either 0 or 1. Therefore, we consider the healthy data label to be 0 and the Covid data to be 1."
      ]
    },
    {
      "cell_type": "code",
      "metadata": {
        "id": "z_6N6l9xHPrP"
      },
      "source": [
        "y_train_n = np.zeros(x_train_n.shape[0])\n",
        "y_train_c = np.ones(x_train_c.shape[0])\n",
        "y_test_n = np.zeros(x_test_n.shape[0])\n",
        "y_test_c = np.ones(x_test_c.shape[0])"
      ],
      "execution_count": null,
      "outputs": []
    },
    {
      "cell_type": "code",
      "metadata": {
        "id": "JJxnOSioHOs0"
      },
      "source": [
        "y_train = np.concatenate((y_train_n, y_train_c))\n",
        "y_test = np.concatenate((y_test_n, y_test_c))"
      ],
      "execution_count": null,
      "outputs": []
    },
    {
      "cell_type": "code",
      "metadata": {
        "id": "uIcyqQlTJpKh"
      },
      "source": [
        "y_train = np.expand_dims(y_train, -1)\n",
        "y_test = np.expand_dims(y_test, -1)"
      ],
      "execution_count": null,
      "outputs": []
    },
    {
      "cell_type": "code",
      "metadata": {
        "id": "spSzm24VJe5O",
        "colab": {
          "base_uri": "https://localhost:8080/"
        },
        "outputId": "b02132d0-635b-4bd5-d01f-9be8db1f5ac6"
      },
      "source": [
        "print(x_train.shape)\n",
        "print(x_test.shape)\n",
        "print(y_train.shape)\n",
        "print(y_test.shape)"
      ],
      "execution_count": null,
      "outputs": [
        {
          "output_type": "stream",
          "text": [
            "(300, 224, 224, 3)\n",
            "(92, 224, 224, 3)\n",
            "(300, 1)\n",
            "(92, 1)\n"
          ],
          "name": "stdout"
        }
      ]
    },
    {
      "cell_type": "markdown",
      "metadata": {
        "id": "S4nPCHWlDpbY"
      },
      "source": [
        "# **Define Model**\n",
        "Now we begin building our deep learning model."
      ]
    },
    {
      "cell_type": "code",
      "metadata": {
        "id": "utkkMYzLDOAp"
      },
      "source": [
        "# importing the necessary packages\n",
        "from tensorflow.keras.preprocessing.image import ImageDataGenerator\n",
        "from sklearn.model_selection import train_test_split\n",
        "from tensorflow.keras.layers import AveragePooling2D\n",
        "from tensorflow.keras.utils import to_categorical\n",
        "from sklearn.metrics import classification_report\n",
        "from sklearn.preprocessing import LabelBinarizer\n",
        "from tensorflow.keras.applications import VGG16\n",
        "from tensorflow.keras.optimizers import Adam\n",
        "from sklearn.metrics import confusion_matrix\n",
        "from tensorflow.keras.layers import Dropout\n",
        "from tensorflow.keras.layers import Flatten\n",
        "from tensorflow.keras.layers import Dense\n",
        "from tensorflow.keras.layers import Input\n",
        "from tensorflow.keras.models import Model\n",
        "import matplotlib.pyplot as plt\n",
        "from imutils import paths\n",
        "import numpy as np\n",
        "import argparse\n",
        "import cv2\n",
        "import os"
      ],
      "execution_count": null,
      "outputs": []
    },
    {
      "cell_type": "code",
      "metadata": {
        "id": "j9e9uz_dGTGJ"
      },
      "source": [
        "# initialize the learning rate, number of epochs to train for & batch\n",
        "INIT_LR = 1e-3\n",
        "EPOCHS = 50\n",
        "BS = 8"
      ],
      "execution_count": null,
      "outputs": []
    },
    {
      "cell_type": "markdown",
      "metadata": {
        "id": "E7s-9rp5ranp"
      },
      "source": [
        "## Data augmentation \n",
        "Data augmentation in data analysis are techniques used to increase the amount of data by adding slightly modified copies of already existing data or newly created synthetic data from existing data."
      ]
    },
    {
      "cell_type": "code",
      "metadata": {
        "id": "8-ZzRZgRGbOb"
      },
      "source": [
        "trainAug = ImageDataGenerator(\n",
        "\trotation_range=15,\n",
        "\tfill_mode=\"nearest\")"
      ],
      "execution_count": null,
      "outputs": []
    },
    {
      "cell_type": "markdown",
      "metadata": {
        "id": "6RINDP0cr0QH"
      },
      "source": [
        "## VGG-16\n",
        "![vgg16.jpg](data:image/jpeg;base64,/9j/4AAQSkZJRgABAQEAYABgAAD/4QBaRXhpZgAATU0AKgAAAAgABQMBAAUAAAABAAAASgMDAAEAAAABAAAAAFEQAAEAAAABAQAAAFERAAQAAAABAAAOxFESAAQAAAABAAAOxAAAAAAAAYagAACxj//bAEMAAgEBAgEBAgICAgICAgIDBQMDAwMDBgQEAwUHBgcHBwYHBwgJCwkICAoIBwcKDQoKCwwMDAwHCQ4PDQwOCwwMDP/bAEMBAgICAwMDBgMDBgwIBwgMDAwMDAwMDAwMDAwMDAwMDAwMDAwMDAwMDAwMDAwMDAwMDAwMDAwMDAwMDAwMDAwMDP/AABEIASsDIAMBIgACEQEDEQH/xAAfAAABBQEBAQEBAQAAAAAAAAAAAQIDBAUGBwgJCgv/xAC1EAACAQMDAgQDBQUEBAAAAX0BAgMABBEFEiExQQYTUWEHInEUMoGRoQgjQrHBFVLR8CQzYnKCCQoWFxgZGiUmJygpKjQ1Njc4OTpDREVGR0hJSlNUVVZXWFlaY2RlZmdoaWpzdHV2d3h5eoOEhYaHiImKkpOUlZaXmJmaoqOkpaanqKmqsrO0tba3uLm6wsPExcbHyMnK0tPU1dbX2Nna4eLj5OXm5+jp6vHy8/T19vf4+fr/xAAfAQADAQEBAQEBAQEBAAAAAAAAAQIDBAUGBwgJCgv/xAC1EQACAQIEBAMEBwUEBAABAncAAQIDEQQFITEGEkFRB2FxEyIygQgUQpGhscEJIzNS8BVictEKFiQ04SXxFxgZGiYnKCkqNTY3ODk6Q0RFRkdISUpTVFVWV1hZWmNkZWZnaGlqc3R1dnd4eXqCg4SFhoeIiYqSk5SVlpeYmZqio6Slpqeoqaqys7S1tre4ubrCw8TFxsfIycrS09TV1tfY2dri4+Tl5ufo6ery8/T19vf4+fr/2gAMAwEAAhEDEQA/AP37bqv1pcUjdV+tLQAYoxRRQAYoxRRQAYoxRRQAYoxRRQAYoxRRQAYoxRRQAYoxRRQAYoxRRQAYoxRRQAYoxRRQAYoxRRQAYoxRRQAYoxRRQAYoxRRQAYoxRRQAYoxRRQAYoxRRQAYoxRRQAYoxRRQAYoxRRQAYoxRRQAYoxRRQAYoxRRQAYoxRRQAYoxRRQAYoxRRQAYoxRRQAYoxRRQAYoxRRQAYoxRRQAYoxRRQAYoxRRQAYoxRRQAYoxRRQAYoxRRQAYoxRRQAYoxRRQAYoxRRQAYoxRRQAYoxRRQAYoxRRQAYoxRRQAYoxRRQB4H/wVA+H2u/FT9hXx54d8M6bcavrWsR2dtBZw2zXXnqb638wPEpBkiEe8umRuQOMgHNeN+IvgNovwv8A2mNBs/iT8MZvGXhOx8KadaeA/wDhEPBs02heHdaTULyXUGis7cyDTLiWOTTmW6kKqY7eZRMuHR/uCigAx7UYoooAMUYoooAMUYoooAMUYoooAMU1x8p+lOpH+4fpQAN1X60tI3VfrS0AFFFFABRRRQAUUUUAFFFFABRRRQAUUUUAVNe16y8L6PcahqV1b2NjZoZJ7idwkcSjqWY8AVyH/DTfw7/6HXwz/wCDCP8AxqP9qI4+AHij/rzP/oS185TTrGzZbvXq5fl8cRFyk7WZw4vFyoySSufSP/DTfw7/AOh18M/+DCP/ABo/4ab+Hf8A0Ovhn/wYR/418b/FP4/6P8J9Q0jT7m11zVtY17z3sdL0bT3v76aKAIZ5/LT7sUfmRhnJA3SooyzAVyEP7a3g3Uta+yxza5HZSzXtrbavNpcsemX1zZxyS3VtDORhpY1hlBGAC0UiqSVIrrlk9FOzmc39o1Hryn3v/wANO/Dv/odvDP8A4MI/8aP+Gn/h0P8AmdvDP/gwj/xr879B/bn8A+NNB8L6ppusXVxp/i+DT57Cb7HIqxrfXjWNuJ8/6lvta+SwbBR2UHqDTfEH7WPhzSbtFkj1+WxbXW8NzalDpkklhaXonW3CSTDhQ07+Wrc5ZW6AE0v7Jo/z/kP+0Kn8p+iB/ah+HI/5njwv/wCDGL/Gj/hqP4b/APQ8eF//AAYxf41+fnij4xWui+N9N8OLa6vqWr6lH55hsLNrgWcHmCMzzsOI495xk5J2sQCFJGd4J+NOh/E7xb4u0XR7yW6vfBN7Fp2qnyWWJJpYzIqxueJAArKSvAZSOopf2TSvbmYf2hP+U/RT/hqT4b/9D14V/wDBlF/jXX+HvEen+LdFt9S0u8ttQ0+7XfDcW8gkilXplWHBHBr84O/WvuD9j0/8Y3eFf+vaT/0dJXJjsDGhBSTvdnRhcU6smmj0yiiivMO4KKKKACiiigAooooAKKKKACiiigAooooAKKKKACiiigAooooAKKKKACiiigAooooAKKKKACiiigAooooAKKKKACiiigAooooAKKKKACiiigAooooAKKKKACiiigAooooAKKKKACiiigAooooAKKKKACiiigAooooAKbNMtvE0kjKkaAszMcBQOpNOrO8X/wDIp6p/16S/+gGgDnB+0b8Pyuf+E18LbT3/ALThx/6FXQeK/Guj+BNNS81rVNP0m0kkEKzXk6wxs5BIUFiBkgHj2NfE1/8A8kcl4H/ID9P+ncV9D/tjNu8D+Fyf+hghP/krc169fLY06tOmpfEefRxspwlO2x6H4Z+MHhTxpqn2HR/Emh6pebDJ5FrexyybRjLbVJOBkc+9dHXy/wDs/f8AJe9F97G97e0dfUAPFcmOwyoVfZp3OjC1nVhzMKKKK4zoCiiigAooooAKR/uH6UtI/wBw/SgAbqv1paRuq/WloAKKKKACiiigAooooAKKKKACiiigAooooA8//ambZ+z54qb+7Yk/+PLXybfa9lm+bv619pfFLwNH8S/h9q2gzXE9pFqlu0DTQqrSRZxyA3GeO9eGy/sDRzHnxfr3/gJaj/2WvayzF06UGp9zzcdh51JJxPk34reEfEN98VPDfjfwfrGjad4g0LTL3Q54NXtJLmzvbK6mtrg/6t1dJY5rSJlIOGVnUjkEeWp+y74gk8M2PhO98VaRceDdBu9V1PSli02SPUWuL2O8CJO5coYoJL2ZgUAZwsYOCCT9/P8A8E97eTr4u17/AMBbb/4mqOtfsK6L4Ztlm1Lx5qGnQu2xZLpLOFWbrgFgBng8e1dzx2Hk73/M5VhayWx+e+k/sLLo8PjK3h8SFbDxZ4M03QY7ZbXC6XqtoI3bVIjn/lpcwW9xs6iSNmzlia1NZ/ZU1HVfDHw80v8AtPQHuPB9zFqlzrkllMNUXUTci4uri0KyCNPtLb1ZZFbCuevSvu//AIYj8PDRG1P/AIWFd/2ap2m7/wBC+zg52434253EDGevFS6L+wvoniWB5dN8e6hqMUbbHe1SzmVGxnBKg4OCDj3qfreGX9MPq9dnwJ8U/wBiyLxz8QdM1qx1qZZYY7SF9S1ma41TXNJFvqKXyy6deSSF4ZG2tCckqEc8EZU9L+z7+zUP2f8Axd4uvLbxPreuaZ4ii06K2s9RS332P2VJlZjJFFGZGcyk7mySMltzHdX3H/w7xtv+hs17/wABbb/4mj/h3jb/APQ2a9/4C2v/AMTQsbhU+ZPUf1au1ax82V9wfse/8m3eFP8Ar2k/9HPXmX/DvG3/AOhs17/wFtf/AImvc/hD8Po/hV8O9L8Pw3E95FpcTRrNMqrJJlixJC8dT2rizLFU6tNKD6nTgsPOEm5djpqKKK8Y9IKKKKACiiigAooooAKKKKACiiigAooooAKKKKACiiigAooooAKKKKACiiigAooooAKKKKACiiigAooooAKKKKACiiigAooooAKKKKACiiigAooooAKKKKACiiigAooooAKKKKACiiigAooooAKKKKACiiigAooooAKzvF//ACKeqf8AXpL/AOgGtGs7xf8A8inqn/XpL/6AacdwPiPUP+SOy/8AYD/9txX0P+2J/wAiN4X/AOw/B/6S3NfPF/8A8kdl/wCwH/7bivof9sT/AJEbwv8A9h+D/wBJbmvqMZ/vFD1/yPCwv8Gp6f5nC/s+/wDJfNE/68bz+UdfUA6V8v8A7Pv/ACXzRP8ArxvP5R19QDpXl5x/vHyR35d/B+YUUUV5R3BRRRQAUUUUAFI/3D9KWkf7h+lAA3VfrS0jdV+tLQAUUUUAFFFFABRRRQAUUUUAFFFFABRRRQAHmk2ClrM8Y+MdO8BeHLrVtWuVtbG0Xc7kFmYngKqjlmY4AUAkkgAE0JNuyAg8e+OdN+G/hqbVNTkaOGMiOONBuluZWOEijXqzscAKOp9smvkH9or463UOrTzXrWzeKZocQwEC4tvClq/QBSCr3UmASxBLHbgBFUNd/aC/aCvI9XGoXaLD4haJjpenSsHi8NWzAg3E2CVNy68YGepUHaGZvOvDmmQ/C3ToPFHiCFr7X9QdrjRdLuG/eSSHre3J6jnnH8IwPvEBfpMuy9QSq1VdvZd329O7+SPFxmLcn7ODt3fb/g9l8zV0rVrn4LfC/TbHVo47rVpJp7/RtCn+ZLFpj895edd0gyQAeQWZR8xZh63/AME23kkg8ezTSNNcXWpWs08pUKZXaDlsDgdAABwAAB0r5mvb261jVLnUNQuGvNQvH3zzsMbz2AH8KgcBRwB+dfTP/BNv/jx8b/8AX9af+iK9LNsCqOBlOVuaTV/LXZHHl+KdTFKK+FJ2+7qee2vhuw1R7y4ubZZp5tQvWeR3Ysx+1zDnn0AFY/jzxB4B+Fdha3XijWPC/hm1vrkWdrNrGqxWEd1ORkRRtLIodyOdq5OOelX01jyBdR5+7qF8P/JuavHvixaa1oX7S3hnx7ZeDW+IWl2vhe+8Ly6bFd2UFxpM099a3P2pReOkTQzRwGGYqxkURQ4SRSwFKypppdhauTVz0CT4hfDlvEWtaPH4g8GtrHhmB7rWLBdbgN1pEKLueW5j8zdCiqQWZwoUHJxUcnijwjLc2cMWo6A82pLC9lGmpIzXgnjkkhMQD/vBLHDM6Fc71hkZchGI+RNV/Z28eap8BNI+H/8Awhtjp+o+A9C8Y2v/AAkQ1Oze28WXOqWOoW8At9reeDcyXkc1ybpIgkkZGZBtemaV+y142+HkXjyHRbHS7qDw7aeGr/4aBr1EZbnTLi8vPsEuf9SkclzJbK5+Uwz4HANY+0k/s/1b+kXyL+b+v61PqS8+JvgeDxRa6GfEXhdNc1CWaC1006zELy6khJWZI4fM3u0bAhlAJUqQcEEB2p6/othrFnp813Y2+oaisr2lpJe7Li7WJd0rRxl9zhFwWKghQcnFfO178D/FFjpvwk0S00e+uJvDurWviTXNR+1WH9kSXj3U91fNcBmF486SXEzwGEGNnlG4gBq6HxZ4D8SRfHb4T61caDJ4wufDb6qmt+JLO20/TdsF1Yy20MPlSXHmlVkkDMqbl2ksNzfLRzPrHt+gcvmd3J8ePh/J4TuNeXxz4M/sG1vDp8+pjxJbmyguhgmBpvN2LLgg7Cd2CDjHNdL5CuAd8pBGQVnfBHqDu5+tfI/j/wCBHj74p+FtW1W78B+IPDHibXtZkudRTRNQ0YXNnarpE+nWVtYlrgwSQLG/l3Lz+XK4uJDGmFUJ9S/D3S7vQ/h34csNQttMstQ0/SLO0urbTSzWVtNHbxpJHAW+YwqylULc7AueaKbu9UEtFoz6m/4Jxuyt43j8yVo1msiqtIzBSY5M4yTjOBX07XzD/wAE5f8Aj48cf9dbH/0XLXq9/wDtY+BNN1K6tZNWuTNZzyW0uzTbmRVkjco4DLGQcMpGQSOK+dx1OUsRJQV9tvRHsYWpGNGLk/6uej0V5n/w194B/wCgte/+Cq7/APjVB/a/8Aj/AJi17/4Krv8A+NVy/Vq38r+5m/t6f8y+89MorzFv2xPh8vXWLsf9wu7/APjdNP7ZXw7H/Mauf/BZdf8Axuj6tW/lf3Mftqf8y+89Qoryw/to/Dgf8x2f/wAFl1/8bpjfts/DVeviCUf9w66/+N0fVq38r+5h7an/ADL7z1aivJz+298Mh/zMT/8Aguuv/jddV8Lvjp4W+M76gvhvU/7QbS/L+1A28sJi8zds++q5zsbp6VMqNSKvKLS9AjUg3ZNHXUUUVmaBRRRQAUUUUAFFFFABRRRQAUUUUAFFFFABRRRQAUUUUAFFFFABRRRQAUUUUAFFFFABRRRQAUUUUAFFFFABRRRQAUUUUAFFFFABRRRQAUUUUAFFFFABRRRQAUUUUAFZ3i//AJFPVP8Ar0l/9ANaNZ3i/wD5FPVP+vSX/wBANOO4HxHf/wDJHZf+wH/7bivof9sT/kRvC/8A2H4P/SW5r541D/kjsv8A2A//AG3FfQ/7Yn/IjeF/+w/B/wCktzX1GM/3ih6/5HhYX+DU9P8AM4X9n3/kvmif9eN5/KOvqAdK+X/2ff8Akvmif9eN5/KOvqAdK8vOP94+SO/Lv4PzCiiivKO4KKKKACiiigApH+4fpS0j/cP0oAG6r9aWkbqv1paACiiigAooooAKKKKACiiigAooooAKKKraxrFr4f0q5vr64htLOzjaaeeVgscSKMlmJ6ACgCLxL4ksfB+g3eqalcx2dhYxmWeaQ4VFH9ewA5JIA5r5N/aG/aIuLrUINSuoUjvFVpdA0a4PyafHyDf3Yz/rDzhc4QfKDuLsJv2iv2i/7ZmtdRuIX+yo5l8PaNLlGnZf+YhdL1VV6orfdyON5Gzx/wAP6XCLWXxt4xM2oQXk3mWdo4Hna/cD7p2nhYFwAoPy7VyRtxu+gy/L1Fe2rL0XVvsv1fQ8fGYxt+zp/N9l3f6EnhvSoPC+mx+MvFKz6ldahKZtJ0+c4m1a46/aZh2jUYKjAVRg4+4K5/WNZvPEutXGqapcfatQvCDLJ0VVH3Y0H8KL2H1JySTTfEfia+8Y6/catqswmvrgbTsz5cCA5EaZ6KPzJ5NUWlr7PB4VwftavxfhFdkfN4jEKXuU/h/N92TtLj/69fT3/BNg7rDxx/1/Wn/oivlhpOa+pf8Agmf82m+N/wDr+tev/XvXDxI/9ifqjqyX/el6MxtX/Y/8cJqt95Nz4caGa9uZ4ma5lVisk7yLkeWcEBwDz1FU5/2LfiA+SZvDqr/18Tcf+Q69w+MfxUutX1q+8J+GNQh0qbT7f7T4m8RyFfI8L2m0sSC3ym6dASit8sa5kfICpJ85y6TYaH448H/ELRbXxNpHhvT9etrfSrVb+8n1LxNHKsiyXd2kkhykg/1UTAYDGWQjKqnzVHEVnD35W7afd9/TfTXa1/YrU6SlaMb99fv+7rtrpve2oP2IPHk/zC48Ot9LiY/+06a/7DvjqP70/h1c+txMP/addF8WfGkNtYT+IvGklzc39wfLstKs72WOOE9VtodjKGbvJM3ueFCrXKfsyfEzxNLb+MdPsJruCTVrm3d70zSTWuixBHDx2/mMxadsqAOgwXYjCq2yeLdJ1U1ZW6dwth1PkLf/AAwz48/56+H/APv/ADf/ABuo2/Yi8cA83PhvPvcy/wDxuuZ/aC8WaZolleaDoMmof2lHC32/UBql0zWh2k7FbzOZj1J/gB9TgfbPwquJNR+Gfh2aaSSaabS7V3kdtzOxhQkknkknuaxxVbE0KcaktpXtp2t/mVQp0as3CPS1/mfJn/DEXjj/AJ+vDX/gTL/8bo/4Yk8cf8/Xhv8A8CZf/jdfaXlCjyhXF/atY6v7Ppniv7H3wK1v4LHxI2szadK2sSW7Qi0d3CCNHU7iyjqW4xXjpufK1PWcs3/Ia1PjP/T/AHFfZoQLXwlr2rfZ/EevR5+7rmpj/wAnp67MprOpWnOW7Rz4+moU4xRi/FL4/HwB4w0Pw1pXh3XvGHibXrW61GHTNLeGN4LK2eGOa5kkmdEVfNuIY0XO53fAGFYjgZP289Fe0XVJNB8UW/hS+TVxpGvyLD9m1mXTIbmW5jjjEhkTcLS5ETyKFk8kkEAqTY+KPgDUPE3xF0Hxh4b8UT+E/E2h6fdaM1wNPiv4b2wuJYJ3ieKQgB0mto5I5AcqS4IYNivMn/ZDjbw0nhm48Zard+DdJh1pdA0prGFZNKl1OC7hkd5x806wi9uPJRgu0MoYttBr15yqX0/rb/g/gefGMLanY+GP2/8Awn460rw7fWNvry2viCLR5HeaFUOktqd3cWMUdyu7KPFdW/kyAZ2mWMjIJIbqf7Y2nxahovl6LrlxpOueJJ/C0GpJLb7DcxXb2nmLCZPOkhMsUnzohCIhdsLXEj9i/Q4JviE1trGrWy/ELw/p2jToipt02eyRtl/AO0zybJmB48yMHuauap+ytbahpvw/01dZjj0zwD9jliZtJgk1Kee3lErSxXh/eW3nsMTLHxIpYH7xrPmq21/rX/IrlpnefFL43T/DHxRoNnf6Brkul65qNnpL6vCYvs9jdXc3kWyPGziVt8hUEopChgx4Bx5xo37c+ieI/hRY+Ll024t7DXNUGk6PHPrWnINQl2PI5eXz/KttiRsWWdlcZX5ckVq3n7N62PxA8I6noGt/2Hofg8zTWmgvZfbrYXU25JbxZJZC63BheSJHJYRrLJtALE1zWs/sVReIPE+peJrrxBpreLL65tZFul8LWQ09Yre2vbZVksuY5pWj1CfdM53krEOFQKSTqX0/QI8ltT3K2mkntYpJI5IZJI1domYM0RIBKkg4JGcZBIOOCRX0V/wTnO7X/Hf/AFy0z/27r5f+HPgmy+GHw68O+F9Ne4fTfDOlWmj2jTvvlaG2gSGMue7FUBJ9a+oP+Cc3/If8d/8AXLTP/buufMf92lfy/NG+D/jL5/kfUtFFFfKnuhRRRQAUUUUAFFFFABRRRQAUUUUAFFFFABRRRQAUUUUAFFFFABRRRQAUUUUAFFFFABRRRQAUUUUAFFFFABRRRQAUUUUAFFFFABRRRQAUUUUAFFFFABRRRQAUUUUAFZ3i/wD5FPVP+vSX/wBANaNZ3i//AJFPVP8Ar0l/9ANOO4HxHfn/AIs7L/2A/wD23FfQ/wC2J/yI3hf/ALD8H/pLc185375+D8n/AGBP/bcV9F/tjnb4F8L/APYwQf8ApLcV9RjP94o+v+R4WF/g1PT/ADOG/Z+OPj5on/Xjefyjr1b4j/tMad8OPGEuiyaPrOo3FvBHPJJarH5ah920ZZwc/Ke1eS/s8vu+Pui/9eN5/KOpv2g/+S8ax/14Wf8AKSsMRQhWx3JPaxrRrSp4bmj3PcvhD8XLP4w6He3tnZ31j/Z961jNDdKocOI45MjaSCCsi9/Wusrxv9i//kVfFn/YxSf+kdpXsleLiqap1pQjsmenQm501J9UFFFFc5qFFFFABSP9w/SlpH+4fpQAN1X60tI3VfrS0AFFFFABRRRQAUUUUAFFFFABRRTZZVgiaSRlREBZmY4CgdSTQA28vIdOs5bi4ljgt4EMkkkjBUjUDJYk8AAckmvlP9o79o6HxJDHdPG8mgRyZ0XTGPlya7OvIuZgeVt1OCoI9HIzsUWf2lf2j7TxRp7MHdvCMMuy0tkOJPFFwpyPpbKRnnh8bj8oUP4Fpli3xCu77xh4wumj0OBtkrJn/TSD8tnbL12Z+UkcsxPOdxHuZfgFb21bZfe32Xn+R5OMxbv7Knv/AFq/L8yTRNPXxIt1428ZzyT6W8oCIo2vrU4zsgiU9IFweP4scnAYnG8VeLb7xxrralqHlrJt8uC3j/1NjF2jQfqzdWPoMAN8Y+M7rxzrK3l1GtrDbJ5NjZR48uwi4+VQONxAG4j0AHArKebH+NfZ4PCtP2tRa9F0iu3r3Pm8RXuvZw26vuyZpMVGZ8j/AAqF5f8AJqNpc/8A169E4+UmabP/ANavbv2LvHOsQ6d408N+Fmittcvri2nvNWuIw9p4as/IIN1Lu+RpThvKiJ+Yjcw8tTnx/wCHPw91z40+PLfwv4bRDfyp597ezLm10W1z81xN6k4Kxxj5pH9EV3X33RfD/hk/DhvD+jyNZ/B3RJmm1PUJstc/EC+yBLI5A3SWu9QnT/SGURoPJQb/AAc8xNJU/Yy1ej9O2nVvouu70TPUyyjPn547ar/P0S6vpstbFpJND8TeDYTCt5D8JdJuBd263JM178QdQZ8i+uc/NPE8uGjQ/wDHw+1yPLVFNjxJ4sXw5bzeLvFJMd2AYLGxRg/2MP0hj7NPJjLv6DAwqnLPEHipLNH8WeJ92n29ipGn2Bw72IYbQNq8NdSD5cLkIDsBxuJ8buLrXPj98QFVV8loUJRCd0Gi27HBZuzSPgD1cjA+VSa8PB4V1ZOrV0it32/zk+r/AE0PVrVlTXs6erf4/wCSXRfrqPtLbXP2hPiFJJLItuUUCaRBvg0W3PIjjB+9KwGcn7zfMcKAK7X4kfECz+E2gx+EfCai3vI0xNPne1grcl2P8dw/Xnpncf4RTfGnjOx+B/hmPwz4bC/2syebJM4Dtb7+txKf4pW/hU9gOAoAPkSv5YY7pJGdi8kkjb3kYnJZmPVieSa9zC4f601KStSjsu/9dTzK9b2CcU7ze77f10GX8S2+kXCrnHlSHJOSSQSST3JPJPc1+kXweOfhT4Z/7BFp/wCiUr819Um3aZcf9cX/APQTX6UfB7/klXhn/sEWn/olK4eLLctJLz/Q7OH9XUfp+p0lFBOBXj66rf8A7UuvOukapqmkfDfS5ijalpl1JZ3Xie4QkEW88ZWRLONhzLGQZmXCkxAmT5CnT5rt6Jbv+uvZfpc+gqVOXRat7L+unf8AzsewHpXhuufsN+Gdc1zUL06l4ribULua8dItSRY1eWRpH2gxEhdzHAycV458Xr+SXVG1HwD4m+IkXh/wjqtst1qR8V6hfN4lu0uEWTT7SGaZo5YlXcJZCCGb92hO2Rl9M1jVNa8b6pNqWr6trWlyTHEGnaZqs1rDYxdkYxMPNl7s5yM8L8oye+nh509acvXo1t5+f+epxvERqaVI+nVP0/r8C03/AAT+8LOfm1Lxgf8AuKR//GqT/h334U/6CPi7/wAGkf8A8arJOlTf9DD40/8ACkvf/jleU3nx/wBStvjJ4dj8Nax4y1XTbDVIhPGNZuLn+3MHEkSJK+zygMgu2AcFs7QCemnRxU78s9lfr0MpVKEbc0d9D2z/AId9+FP+gj4u/wDBpH/8ao/4d9eFP+gj4u/8Gkf/AMaqhdya14ku5NQ1rX9ci1C6bc1vper3FpZ2g7RRrGy7gvd2G5jk8DAFabT3hiaR/EnjGOONSzu/iW8VUUckkmTAA65NZf7R1n+Zf7n+U2P+HffhT/oI+Lv/AAaR/wDxqj/h334U/wCgj4u/8Gkf/wAarxzwX8YvFXi741WbeC9b8QSaLpaS/aZ9U1O5uraZJInRZ3jkYg4Yhoo8AsV3Nha9P/saZYxv8SeNJpP4nPiG7Uue5wrhRk9lAA7cVpUp4qDtKf5kxqUJK6ian/Dvrwp/0EfF3/g0j/8AjVd18C/2dtH+A1zq0mlT6tcPrIhE7X10JyBFv2BcKuP9Y2eueK8Z8a69beAfD02pah4m8apBFhURPEV60lxIfuxxr5nzMx/Ack4AJrW/4J//ABA1zxzr3jw6tqmqXkELWEtra3d/JeCwDi4DIryEschFyc4JHGKzrUcQ6EqkpXirX+8ulVoqqoJWbPpaiiivHPRCiiigAooooA534vazdeHvhV4kv7OZre8s9MuJ4JVAJjdY2KsM8cEA818zxePvFzRKf+E28UZKg/ftf/jFfR3x4/5Il4u/7A91/wCimr5Kl1wLAvP8Ir3snpU5xk5pPbdHk5lUlGUeV2Op/wCE48YGB5R4y8WNFGcO4NsVX6nyMCobz4h+MrJ9reLvF6OV3gN9nBK+uPI6e9fEH7QN5dTfEz4syTW3jab4pG2j/wCFUz2EWptBFaf2cgYWckH+hxy/avtfn/aCrFjblsr5Vef+LPCkfxBlTR/hDd/EPwn4H1i+8L2t/qQi1a2ex1r7dK0l2qXoErSxReW12wHlOQiyFmzj0JRop2VNfcv8v60OSMqj+0/xP0PuPi54yhXd/wAJl4oCsQASbbB/8gVTvfjR44tIlkbxh4oRGJUMwtgCR1GfIr89bPxv8VG8Fy+OJPD/AIq0/wAX+IvEHiDwNq+jKJ3isDfrB9l1GBCcC0gv7QmOZRhYL5jkDNdbpekXXgn9rsw+CbabWJtK8Mz6TqUV0+r2UbzRR2awS313cJJbTRsI3FubZSQXkPzAuRPLRf8Ay7X3f8AfNVX23959n3Xx38eQQrJ/wmHiYRucK5W32sfQHyaqyftBfEPZIy+LvEm2E4c+Xb4jPv8AuePxr4tsrGz0D9oz4hSXU2p31v4i0bUbvxLqtlaazbXngwpDZpDZQXOPKuI5nEhjNpGJRsZxxurn/COvaL4k0L9nOxuB4ssfFlnp9lPNrlxZa0i2ENvIY5bFx5exrm6mzE/nr/qUZ3fb5W45KP8AIvw/yHzVP5n+J91f8NGfELP/ACO2uf8AfFt/8Zr6r/ZB8Z6r47+Bmm6hrV9NqWoPc3UT3EqqHcJO6rnaAOFAHA7V8RV9lfsK/wDJu2mf9ft7/wClElceaUacaKcYpa9jpwNScqlpN7HsVFFFfPnrBRRRQAUUUUAFFFFABRRRQAUUUUAFFFeUfHv47a18MvGGl6XpNjpdwL2ylu5ZLx5Bt2SIgVQvrvJ59K0o0ZVZ8kNyKlSMI80tj1eivnX/AIat8Y/9Avwv/wB/J6a/7WXjCMc6b4X/AO/k9dv9lYn+X8Uc316j3/Bn0ZRXzXL+2F4ui/5hfhf/AL+T1Xl/bU8WRf8AMJ8Mn/tpPS/svE/y/ig+vUe/4H05RXy1L+3N4qi/5g3hv/v7PVaX9vfxTEf+QH4bP/baf/Cj+y8R/L+KD69R7/gfV1FfJL/8FBvFSf8AMv8Ah1v+283+Fa3w+/bq8R+K/iDoOk3Wg6HDb6tqENlJJFPKXjDnG4AjHHvUyy2uldr8UVHGUm7Jn1BRQDkUVwnUFFFFABRRRQAUUUUAFFFFABWd4v8A+RT1T/r0l/8AQDWjWd4v/wCRT1T/AK9Jf/QDTjuB8MX0n/FopP8AsC9/+uFfR/7ZjbPAPhf/ALD8H/pNcV80XsmfhRJ/2Bv/AGgK+lf21Dt+H/hn/sYIP/Sa4r6fG/7xR9f8jwcL/Bqen+ZwX7OTbvj9o/8A14Xn8o6tftB/8l41j/rws/5SVR/Zqfd8f9I/68Lz+UdXv2g/+S8ax/14Wf8AKSj/AJmHyK/5hPmd1+xf/wAir4s/7GKT/wBI7SvZK8b/AGL/APkVfFn/AGMUn/pHaV7JXh4//eJ+p6mF/gx9AooorjOgKKKKACkf7h+lLSP9w/SgAbqv1paRuq/WloAKKKKACiiigAooooAKKKKACvmX9pj9oyx8QaVeW8dw48H2khgmeBv3niSccfZoT3gBB3MOHwRnYG3aH7S/7RNnqOmajp1reNbeF7Fjb6pfwt+81SXODZW2OSCfldx15QHhyvzDbx3nxt8Q3OratMmieF9Dj2yupCw6bAAMQRdjKwwGYDjgAfdFezl+BUv31XSK/qy8307bnm4zF2/d093/AF9w6xtbj4u6te+JfElwNO8O6WPLmePhI0B4s7f1J4DsOScAckBcnxt44l8cahAwt10/StPXytN09OEtIwMAtjgyEdccLnA7kp478df8JjNa21pb/wBm+H9KGzTdPA2hB082Qd5COmc7cnuSawHl56/nX2WDwuqq1Fa3wrsv831PmsRX3pwfq+//AACZpajaXH/1qieXH/16Y0nH+NenzHFYlaXH/wBar/gjwVrnxX8cWfhfwxaw3euX6mUGbd9msIAdrXVwRyIlPGBhnb5F5JIo+G/Dmr/EHxdp/hvw7ZHU/EGrEi2tgSscUa48y4mb/lnBHkbnPUlUXLuqn6S8E/DrS/BXhfWPBHhjVZE0mOQn4heOFm+zy6vcxr8+nWswI8uOJDsdoyFgViinz2lK+XmOYRw8LL4vy83+i6vTu12YXCSrSt0/rRfq+i17Jr4X8G+H9F8B33hHw9qUqfDzS5Hk8ZeKHby7rxpeJ8stuki42WqsNsjR8EAQR4Bdqu6z4ht57VNd1eNNH0HRUH9l6eY9i2qAbVldB1lYYVIwMRrgDLEkR6hq1jqWl295NBb6D4L8PRI+l6eYRbQJHGMRzyRYAVVGPKiI+XKtjft2+N+MPGOrfHHxla2OnwSeQrFrG0f5VQDhrqf3APf7oOB8zGvmcPh54io6lR2S1bfTzfeT/wCAtEe3VqRoQ5Iat6adfJeS/wCC9WO13xDrPx58dQW9rD5Krk2ltIcxadD0M8xHVyOoH+4vdq7jxH4j0/8AZ98KR6Joe261u8XzmklALZPBuZsfkid8YHAJqPU9S0z9nXwctjZeXf8AiDUh5haQYa4ccGaT+7EvRUHXoOSxryG61Ca/u5rm6uJLq7un8yaZ/vSt6/THAHQAAV7WHw/1ppJWpR2Xd93/AF5HnVq3sE29aj/AkknklmlllkknnuHMs0sh3STOerMe5/8ArDoKjafmq7T+9RtNxX0OiVlsePq3di6rcf8AEtuf+uT/APoJr9M/g/8A8kq8M/8AYItP/RKV+X+qTZ0647/unH/jpr7o8L6xqHx/8J6T4O8P3Vxp/hfTNOtbbxNrltIUkncQpv060cdHxxNMpzGCUXEhLRfLcTU+dU+iV7vtse9kk1Dn7u1l33NvXNRn/ao1270HTJpLf4c6bM1vrWpROVfxFMpw9hbsORbqeJph94/ukz+8ZeU+OHxXt/GcWo+D/D95/YHgTwyfsPiXWLD90zlMINIsdv3ZCdscrpkxjMaASsGjsfF/4p24srz4f+B7uPwv4c8Lwra+JPENliGHQYggxYWjAY+2MhXJUEwK6H/WPGK4zwzoduLfS/L0uPQ9D0OMR6DoqptXT0wQJpF5/wBIZSeuWTc2SXZjXz9OO1tLbLt5v+8+nbfa1/WlK97u/d9/JeS6/dve13w3ooY2V5cWMOl2+mwi30bSIlCw6NBjaOBwZmH3m/hHyj+IttvcbjtHJJwB61Ue4z3z7CvIfjf8ZnkluPD+izTFmb7NfXNtkyM7fL9lhxyZGztYryM7Rhs47MPRlUkqcP8Ahu7f6nPVqqC5pf15Ib8bPjHL4nuG8OaCZZraSX7PdTW5zJfyHj7NDj+HOd7d8YGAGNdt8GPhJF8NtP8Atl55U2vXUeyVk/1dlH2gi9hxub+I+igCs34J/CBPAFquo6lFD/bckflxxrgppkZ6xp23njcw9No4znvGuNxwDknoK6sRXhGPsaPw9X3f+XZGNKm3L2tTfou3/B7lqW6wD0AHJycACvFPHnjPUPjz4mHhbw2yjSF+a7u3BMdwoODIw/54KRhV6ysOyjJT4kfEC++LfiD/AIRDwuwmtpCRe3SN+7mVTh8sOkCnhmHMjYQZBOfSvAHgiw+G3h1bGx/eO58y6uWUCS6kxjc3oAOFXoqjA75iNqKU5fF0Xbzf6L5+rk3UfKtuv+S/X7vTQ8FeEdP+Hvh+PTdOVvLU75ZpMGa6kPWRyOrH0HAHAwBTvFHi2y8JaJcahqE32e0txlm6sxPRVH8TE8ADqah13xHaeHNKuL++uEtbO1TfLK54Uf1JOAAOSSAOtfPfxC+Il38SNcW6uFe3sbUn7DZk/wCpzwZH9ZWHH+yOB1JN4PCzxVS3Tq/66k4jERoQ/JC+OPHN98RvEH9oXy/Z4YsrZWe7ctnGfU9GkYfeYcdhwOfff+Caxzrfj7/c0z/26r5jefjrX0x/wTNffq/j7/d03/26r1s8pQpZdKnBaK35o4MrqSnjFKW+v5H1hRRXI/F74t2/wu0uzjhtZNX8Ra5MbTRdHgbE+pT4yRnokSLl5JW+WNASecA/n8ISnLljufXTmormkddRXltl8KviTe2qTX/xSms7yYeZNb2GhWhtYGPJSIyI0hRegLksQMnk4qT/AIVD4+/6K1q3/gh0/wD+N1t7GH86/wDJv8jH20/5H/5L/menUV8n+H/2hPFml/GvRbpfHS658L47250zUNU1LTLW2j1SZIJZGe0eJVPkQtEVMpysjllQEIWPdan8WPFnjO+kvrHUpvC2mPxZ2bWEU1y8faWbzPuO3URjBUYDfNkDWWBmna628/u23Ip4yElezWvl9++x6l8YdJude+E/iaxs4WuLy80u5hgiXrI7RMFUfUkCvjaT4WeOTGq/8Id4gyowf3Sf/F17bJ4x8Z4/5HS4/wDBTa/4VXfxf4wH/M4Sf+Ce0/8Aia7cJ7Wgmo219TDEezqtN30PEJvhN4/aJo18I+IFRzkrtTafqN9Vp/gx8QLpt0nhPxCzY25IQ8en3+letePPjd4k+Hnh9r+88YSuzN5VvbppFp5l3KeQijHtknooBJrU+FX7TGu+LPgppkUj6ffeONQmu0nuFtwtvplulzJGs8qLwW2qAicGRgTwoYjrliMSo8/KrXt13OeNGhzct3e1+h4d/wAKP8eA/wDIo+IOm37qdPT79K3wR8eNGqHwl4gKL91SqYH0G+voB/Evi5D/AMjlNj1Oj2n/AMTUbeLPF4H/ACOEv/gntP8A4ml9ar+X4h7Cl3f4Hgf/AApTx9hB/wAIn4ixHyg2p8n0+finH4MfEAhv+KV8R/P977nzfX5692PjLxgDx4wkb/uD2vP/AI7XI6D+1ZrVp8ddF0e48T2d/wCHYp5I9au7mxt7eFNsbsVSRcfcK5Zs4z8oyc4qOIxLT5UnZX67ITo0Fa7eunQ8z/4UX46/6E/Xv+/cf/xVfWH7HXhXUvBnwK06w1exn06+S6upGt5sb0V5nZc4JHIIP41zWp/FDxJ40vpL7Tb5vDGktxZWz6dHLdTx9pphIMxluCI8AquN2GJAr/8ACX+Movu+NLhR7aRa/wCFceIlWrw5ZWXXqdFGNOlK6uz6Bor55fxz40X/AJnS4/8ABTa/4Vi+Ovjr4o+H2gSahfeNbhl3eXBCmk2vmXUp6RoMdTjJPQAEngVxrAVG7K34/wCR0vFwSuz6goryv9jn4oa58WvgvDqniK4t7rVBqF3bPJDCIlKxzMEGBxkLgEjGcZr1SuWtTlTm6ct07fcdFOopxU47PUKKKKzKCiiigAooooAKKKKACvnP9rmdbf4taEzf9Aa5x/4EQ19GV8s/t3a7b6H8T/DbXFxDbrJpN0qmSQJuPnwnjNehlf8AvMfn+Rx47+A/l+Z4b+1Z8bb34Hfs5+NPF2lx2cuo+H9O8+2F2C1tFI8scImmAIJii83zXAIykTDI6jyvx94y+IHhn4m6t4BX4xWNvL4b8E3njiTxHd+G9NE1+y3HkR20kQIhW0g8tppWQLMyXtuu9dvmSenav4v0nVLKa2ubrS7q1uo2hmgmkjkimjYFWR1bIZSCQQQQQSDXmt18C/hBN4bsNG/4QH4YtpGk3L3tlZNotkbe0ncKHkRCuFZgiBj/ABCNAchVA+mqczd0/wBP6/rueJCy3PI9P/4KEeObzxhpP9rW+laPo/jjUfAdjo0f2XL6Xd6nBpF1qlhIzcyM9vf3Dws2GX7M/Uiuu+Hf7Qfjb4t6ne+G49SmtNa8C6TdWniybSdMtbi9utYfUTb2MVtFcEQo72tpdT7GO0/aYMggAH0vVNH8K65cSTXlj4Zu5JdQttWd54LeRmvbYKLe6yQf30IRRHJ95AoCkYqprHgnwP4i0/XLXUNH8J31r4mmS41iKe2t3XVpUVUSS4BH711VEVWbJUIuCMCs1CfWX9f1+BfNHseaeDvjt4++Ln7K2i/2C1xcfFS8gi+1zQaRHHArQ6s1pfRoZv8AQ/tscMM6mIsY/PRtuU2mrPgX4za9418ZfCX+ztee98OeLrPxDY38epaLBBqTahp0WTLK8T+SojlVk8uFQjAFi7Arj0O/8GeCdV+H8fhO50nwrN4VhiSGPRWt4P7PiRCGRVh+4oUjIwBg8jnmqNz8JfhteX+j3UvhfwHJdeHbcWekynTrTdpcGCPKgOP3SYJG1MA5PrRyS017BzLsZ37N3ifXvFmmeJ7jUtd/4SvQIdZ+zeG9dfTobCTV7ZLeIXLiOHEbQpefaI4ZQAZETJ3AK7e0fB7/AJLT4L/7Dtp/6HXmnw+8D+B/hJp81n4T0fwn4Xs7lleaDSLa3sopWUbVLLHgEheB6DivQ/gtq1rd/G3wWkN1bSyNrtphUlVmPz+gNFS6pSv2YR1qK3dH6KDpRQOlFfGn0gUUUUAFFFFABRRRQAUUUUAFZ/i7/kVNU/69Jf8A0A1oVn+Lv+RU1T/r0l/9ANOO4HwTdyZ+Fjf9gf8A9oCvpr9tptvw88N/9jBB/wCk1xXy7cy5+GDD/qEf+0RX1B+3AcfDjw3/ANjBB/6TXFfT4z/eKPr/AJHg4X+FU9Dzv9mJ937QGk/9g+8/lHWn+0K2348ax/14Wf8AKSsj9lt937QWl/8AYPvP5R1o/tGybPj1q/8A14Wf/tSj/mYfIr/mE+Z6D+xcc+FfFn/YxSf+kdpXsleMfsUHd4P8Vf8AYxSf+kdpXs9eFj/94n6nqYX+DH0CiiiuQ6AooooAKR/uH6UtI/3D9KABuq/WlpG6r9aWgAooooAKKKKACiiigArwb9pb9oKGKz1TRrDUG0/SdNzHrurRN86np9jtyOsrHhmHKA7R87ZS5+1P+0G3gq/Xwpp76pY3V1Zi81DU7SzkmbT7VmdQIyinEr+W+GP3Apbrtr401zxRN8YfFGn6ZYQ3Om+G7EFrSC3tnuPskXQ3DogYtK2cDOcFuTksT6+XZe6r9pPSK1/rv5I87GYxQ9yO/wDX9MvD7b8evEu4lNB8L6BHyeFh0mAD8muHXv8Awg+n3szx949h8SwWulaPbtYeFtKOLK2PDXLD/l4l77ieQDkjOT8x4X4g+ObW/wBPh8O6DDLY+F9NcnZICs2ozA/NLNnn73IU9Tyeigcq8uf/AK9fX4PC3tUmrJfCu3m/NnzmIrWvCL1e7/ReRI0uT/hTTLioWmqNpvxr1OY4uUmabBp2k6ZqXirxFYaLoemzaxrurSeTY2Mb7TOw5LMx4jiQcvIchV7E4BqwQ3eqapY6bptncanq2qTi1sLG3GZbyYgkKvoAAWZjwqqzHAFfUHwq+EVx8FBfeE/DuoRzfEzVIIh4y8VW6LJH4TtnG+PT7MOConKHeqsCfmE8oKmJK4Mdjo4eF3v0/wA35fi3otTpw+HlVlZbf1ovP8EtXoSfDj4XR/CfT9T8FeGdWjk16ZQfiD43hHlm02jcNLsCSdjhScsSRAhZ23TOoFuWbTtW0O1t7SC30fwFoEQ+xWzDy47wR8+fJnpCp5VWyXbMjdVFJFHpWp+H7fRdDhi0/wAA6SCVAlZhrDKSzSSSuSzw7su0jEtO+WZiud3jvxW+Kd18Wtch0TQ45p9MaUJBDGNr6pIOjt/diXqAeMDcewHy9GjUxVXnm/Nt9PN+fZbJaLqz3Jyhh4csd9tPyXl3fV6vsJ8Q/iHqHxs8U22l6TBNJYtKTZWzfK1245NxL/dVeoB+6OT8xAHbFtL/AGavBn/LPUvEGqDOT8rXjr+qQJn/APWxpNP0/Sf2bfBT3t40eoa/qI2YQ4a6cc+VHnlYU6sx+p5IFeN+IfEl74q1qfUtQm8+8uMbmHCxqPuxoOyL2H1J5Jr16FFYlqnT0pR++T/r7jz6lT2Pvy1m/wAF/X3jtV1i61rVLi+vp2ury7bdLKwxu9AB/Co6BR0H51VaeoWmxUTz4zzX0MbRiox0SPJleTuydp+Kjefmq7z12P7PfwE1r9p3x/JoulyT6fo+nFW1zWUX5bFTgiCEnhrp1OQORGp3tyUVsq1eFODqTdki6dNzkoxV2zR/Zs/Zv1T9qfxlNYwzXOm+E9Ll8vXNWhO2QtgE2Vs3/PZgRvcf6pT/AHyoH1Z8T/H9r4L0xfhf8N2s/DNroNmi6zq8CKtr4SsguQkY6PeSL9xTwgYzOThUlm8beLbL4M6FZ/Cf4Vxafo+pabYh7q8KCW18I2bbj9rn3nbJcSYdo0kOZGDSPlA27y/QNGsNQ0e1sdNiuk8JWspu4BdyNLdeILljua/u5H+eUs2XG/77EORgIo+LxmMniqnPLRL4V2/vPzfRfpv9Hh8PGhDlW/V/+2ry7v8AXafw9pFncadp8FnZPp3hnRzv0nT5CWkuJCSzXtyTy0rsSwDcgkuxLNhd95Wc00n/AOua83+OPxpHgyCXSdLnVdWZMz3Aww01COuOhlI+6D0yCewM0aMqkuSG7/q7/VlVKijHmlt/WiK/xw+M39h+domkzML77t5dR8m0B6RR46zNnt90e5AFr4H/AAe/4RCKDWNUhVdWZP8ARbU8jTUI7nvMwPzH+HOASck0fgX8GW0jydc1qFlvv9ZZWkvLWueTLJnkzNnv93J/iPHqldVatGnH2FHbq+//AADCnTlKXtKnyXb/AIIu9nOPXj615N8VviVeeMdb/wCEP8Lbrie4Yw3lzHJtVsffjVx91F/5aOOn3Rk5qf4xfFS6vNVXwl4Y8y41a8YwXM0J5h4y0SHs2OXfpGv+0eOn+FHwrs/hloflrsuNSuFH2u5AwGx0jQfwxr2HUnLHJNZwiqUfaT36L9X5du/oXJub5I7dX+i/rQufDX4e2Xwx0H7Ja7bi5mCm6utmwzsBgAD+FF6KvYe+a2NS1OHStPmuruaO1tbdDJLLI2FjUdSTT7i4js7eSaaSOGGFS8kjnasajksT2AFfPnxa+LcnxH1AQWrPDoNq4aGMja1446TOP7o/gTt1POMVhsPUxVW33smtWhRhf7kN+JfxOn+JOqoyrLb6Pavus7Z+Gc9POkH98/wr/CD65rmZLmq73HvUL3PHWvsKFGFGCp09j56pUlUlzS3LL3OK+of+CYD79T8fn203+V1XyfJcZr6K/YC+J+m/CvQviJqupedLuk0u2tLS3TzLrUbl/tQjt4U6vI54A7ck4AJHl59eeDlGO91+aO/KrRxClLaz/I+tPiz8V7H4S+HI7q4huNR1C+lFppel2gDXWq3LA7IYgSBk4yWYhEUMzFVUkZHwg+FV9omq3XizxXNbah431qEQzyQktbaTbZ3LY2pYA+UpwWfAaVxvYD5VWH4UfDLVJ/Ecnjbxp5E3i2+iMNrZxP5lr4btGIP2WE/xSNgGWbrIwwMRqij0Wvg5yUI+zh83+i8vz9D6qMXN88/kv1fn+QV88/GP4pSfHbU9S8N6PqDab4B0dpIvEutxS+W2qumRJp9tIPuxrz584PAHlJ8zM0d740fFa7+Lmv6l4J8KalcaboulyNbeKvEVpL5LQMBmTT7Sb+G42n97Mp/0dW4IlI2cFZpY+KdO0+z02yt9N8DaSiJpenwReVDfhP8AVyFOv2deqIfvnDtnC53oUXF3+1+S7+vZfMzrVFLT7P5+Xp3+7uWINPtfG82l3UmnQWfh3QmRtB04wBcFF2pdMuPkAXiKP+Ffmblgq78t5k56596py3pOSWz6+9QNcM3Su6NoqyOWUm3dluS7rF8ZeN7HwToUuoX8jLDH8qInMlw5+7Gg7sfyHU4ANN8TeJbPwnok+oahP5Nrbj5j1ZieAijqzE8AdzXg+pavrXxv8dwxQw/v3BFpbE5h0yD+KSRh36bm6k4Va68JhXWfNJ2it3/XU5q9bkVlrJ7IsA678c/H6qoj+3uh2qSWttGtieST3z3PBkYY6Dj37wN4N074b+HI9N02NvL3eZPM+PNu5T96Rz3Y+nQDAHArP8A+CbH4a+HxY2WZJJG8y6uXGJLuTGNzegHQL0Uceta0l3nvVYrFqpaFNWgtl+r8xUKPJ70tZPd/oXJLzmq8l5kVWaVm6mvNvjT8YG8PPLouj3GzVNv+l3SkH+zlIztB6ecRz/sAgnnFc9GnOrNU4LVmtSpGEeaWxF8bvjMYPtOh6TceTIgK6jfK2Psy45hjP98/xN/AOB8x4X4DfBWOZbXX9ZtVjghIk0uwkT05FxID/wCOJ/wI8kAZXwH+Dketrba5q1vt0mPEmn2cgP8ApZ6iaTPJTPKg/fOGOR19rmvScktn3rur1oUYfV6D/wAT7+S8jmo05VJe2q/Jdv8AglyW93sfUnOSaryXeKqvcsx4rP8AEPiK08L6NcahqFwLe0tl3O55J7BVHVmJ4AHJNebdvRHYO8W+M7Lwboc2oahIY7eHgKo3STOfuog/iZugH4nAya+ffF/jK98d682paj8jqpS2tlbcllGf4Qe7HA3N3PsBUfjrx/d/EDXftl1mC3hytnaZyLVD1J7GRv4j26DjrhyXeK+ryvL1RXtavxfl/wAE8HG4x1HyQ2/M+3P+Ce7bv2flP/UYv/8A0ca90rwj/gna2/8AZ2jb11e//wDRxr2Dx5460v4aeEr3XNauls9N09N8shBZiSQqoqjlnZiqqigszMAASQK+EzBOWLqJfzP8z6zCSSw8G/5V+Rr0V4/pHw28YfGjf4g8SeJvFngiO6x/ZugaNcwwNYW/UNdOY3Mly/VgCEjG1FBId3u/8MxXH/RTfin/AODeH/4xWTowWkpq/o3+JSrTeqg7fJHqdFeWf8MxXH/RTfin/wCDeH/4xXFfGvwWnwe0a0WP4hfFfWvEWtSm20XRoNagWbUpgNzZbyMRwxr88srfLGgzySqs4YeEnyxn+DJlXnFc0o/ij6Ior5b+Cvxj8XaJ8OdV8H3fiWbxR400/Wry2udZuIo2TR7XcDGWwq73wxWJXG5wm9uAc7Tpq0aj/itPGre5voOf/INafUZXaurd9dfMSxcWk7P/ACPoqivm+STWFz/xWnjT/wADYf8A4zUEl3rSD/kdPGf/AIGw/wDxmj6jLuh/Wo9j6XqpqOjQaoV86KKTb03oGx+Yr5sk1PXEP/I6eMv/AAMh/wDjNcP8YPjVr3gSz+xWPjbxZJrVzEZEWS8gMdnHyPOk/c9ODtBxuIPYE1VHL6k5qEHqyKmNhGLlLY+wv+EPsf8An1t/+/K/4Uf8IfY/8+tv/wB+V/wrwLw38U/E3xV8C+G7ibVtZ0O1i0u2aaeBY7e91e6MS+ZM+5CI4t27aqqC2d3C7RUsn9rL/wAzp40/8Dof/jNCwtXqx/WIdEe8f8IfY/8APrb/APflf8KP+EPsf+fW3/78r/hXgEs+sr08aeNP/A2H/wCM1BJfa0OnjTxl/wCBsP8A8Zo+q1P5kH1iHY+hv+EPsf8An1t/+/K/4Uf8IfY/8+tv/wB+V/wr5zbVNez8vjTxl/4GQf8AxmuF8HftT69Z/HHRE0/XfE3iLQRLNbyWsrwzHWJDDJt2YjXZGrhD5mcYyT8vWoYGtNNwd7K5MsXSi0pLd2Psb/hD7H/n1t/+/K/4U6DwtZ20yyRwQKynIIiUEfjivCZb3xJrEj3mpeLvEFve3LGSSDTJ4obO2z0iiVomYqowNzEljknGQBDI2sKf+R08af8AgdD/APGan6pU/mK+sQ7H0cBgUV80yXWsr08aeM//AANh/wDjNQyahriD/kdPGX/gbD/8ZqPqMu6K+tR7M+nKK+SfGXxF1LwNocmoXvjfxp5at5cUSXcBkuJD91EHk8sf0AJPAr0D9hD4j+IPiL4L8RTeINUutTltdV2W/nlGa3iaFGEW5VXdgk/MRkknoMCipgakaTrdE7feEMVCU1T6nu1FFFcR1BRRRQAUUUUAFZ/i7/kVNU/69Jf/AEA1oVn+Lf8AkVNU/wCvSX/0A047gfn1cSf8W0Yf9QrH/kEV9S/tynHw08O/9jBB/wCk9xXynPJn4bt3/wCJZ/7SFfVP7dZx8MPDv/YwW/8A6T3FfTYz/eKPr/keFhf4VT0PNv2U33ftCaX/ANg68/8AadaH7TEmz4+ar/2D7P8A9qVl/smPu/aF0z/sHXf/ALTq5+1JJs+Puqf9g+z/APalL/mYfIf/ADCfM9K/Ygbd4J8Un/qYpP8A0ktK9qrxH9hdt3gTxQf+pik/9JLSvbq8PHf7xP1PUwv8GPoFFFFcp0BRRRQAUj/cP0paR/uH6UADdV+tLSN1X60tABWD4N+J3h/4g6dNeaPqtpfW8GoXGlO6NgC6t5Ximh5xlkkjdSB3U1vV8PXn/BMfxNrXxGk12+n8NTzWNzqN5o0zyymTTLi58Vpqwmj+X5JPsi+WXX5skqDtZsgH23HqNvM0ipPCzRMquA4OwsAVB9CQQR65HrVG08b6PfeLbrQYdU0+bW7G1ivbiwSdWuIIJWkSOVkzuCs0MoBIwTGw7V+ef7K37BXxRtPgLHrUfhvw94N14W/hy/j0mXUbmK58T3el+I49ZaXUWMZNvPLDF9mziXYZW5Maqte2fsXfsW+KvgN+0RqXjjxPofgm61HxV4fe0v8AVLG4eS90qddZ1S9WBGkiDTQyQajChbcu1rIDaQVwAfWlFFFAHy3+1Z/yWXXv+xatf/Qr6vnH9mBt3iyT/sFr/wCjI6+jv2rP+Sy69/2LVr/6FfV82/ssPu8WTf8AYLX/ANGR19xlv+6L0X5nzGM/3j5s43Upcanef9fEv/obVXaTFO1SXGrXv/XzL/6GaqtNx1r3KfwL0R5Uo+8yVpf8mqurarHpGl3V5NuMNnC9w4UZYqiljj3wKVpSO+Kx/HMmfA+uf9g65/8ART1pF3diZaK59Qfs8+B9c+C0Wn258K61ofxS8eW00a+INXS0aw8O6fGqSzx2axzSNJKAY8blQSyYZiEjCV0ni6+t/Cbt4F0zSdcl0DT1Fxq00BjluNXuLgec4lkeRWYybt8rnly23hQa9Y+Mv/JV/hH/ANgnV/8A0lt68z8VHPxT8Uf79l/6Rx18TTqPF4hOp1TfzTaX3LZdPmfSezWHovk6O3yaTf3vf5djyD48/GO48TPNoVta3Wm6bZ4W7glCJNcsACIyFYqsYGPlB+Y9cAYrb+G7WnwZ8KXWrahoOv3WqtBvuJxFAI4k4xDGfNJC5xlsZJ5xgAV5r8W32/ErXx/08D/0Wtex/FQ4+FGsf9eQ/wDZa9yeHgqMaUdE9X5vzPNjUk6jm9+h4x4s8X33jTX5tS1KRXuZfkVEz5dsmeI0z/CPXqTyay3nqF5snrUbzY717EIqEVCOiPNk3J80iZ5s1G02artP71W1K+a20+4mU/NDC7rkfLkKSP5U7hynb/BH4J6/+0h8QV8N+H2+xw2+yXV9WZN0WjQN3A6PcOMiOM8fxt8q4b7V8Raxpv7NXhHS/hb8L7O1XxJJbGffcHzIdFtyT5up3z9XZmzsQ/PNIQBhFkdMv9kr9mK68Hfs9eFW0L4jeONHh1nToNXuooLTRpPNubiNZZXZ5LB5HJZsAuzEKFXOFAHlthZTX37N+h3kmoXzax461WKXX9UJRrrVGJnzvJXYF2xIoRVCKg2qoBIr47H4p4qryprlTSS13d9ZaeT0Xp3Z72Dw/sYczTUmrt6bK2is/Na/PsjT0fRLLUdIfTbGS5uvDbXTXl9e3Z3XXi2+YjzLqc/xRZVQAeGCKoAiRA3TNJvYszbmbkk964tbLVkUKvifWFVQAALeyAA7ADyKbNBrEUEjDxRrOVUsP3Fn1Az/AM8Kr6jV8iniYFX43/GiP4eWbafYyRtrU8e/c2ClhGf+Wr/7R/hXv1PA55/4FfBqR5ofEmvRyNLI/wBpsra4O6RnPP2mbPVyeVB6cE4OAPOvhdpzeO/iBbNfXVw1xIZL2SbCSPLMoBDMHVlPPYjHA9K9yNrrBOf+Ep1rn/phZ/8Axiu6eGnTh7Klu93+i8vzOWNaM5c8+my/X1OzLZPWvNfjR8XrjSr1fDPh1ZLnxBesIXaEBntN3RV7eaRzk8IuWParHiifW9H8M6leQ+KNY861tZJUzBZ43KpI6Q5/KuC/Z80B71tU1aHUr6zvlkWHzY1hlZg672JMsbnczHkg89656OBkrznZ22Xn5+RtUxCfuxPTPg78I7f4X6UzytFcaxdpi5uFO5UGc+UhPO3PJPVzye2OyZ1RGZmVVUFmJOAoHJJPYCuM+yav/wBDRrX/AH4s/wD4xXE/Hq81bTfBkMUmv6peW19ciCeGVLdFkTazYJjjVsZAyM4Pep+p1qk7yauw+sU4R0Wxj/Gr4y/8LBnbTdNkZdBhfLP0OouDwx/6ZA9B/ERk8YFcFLcfjVZ7nNQvPX02Howow5If8OeLVqSqy5pFlrmoXuM1XkuMVS1jXbfRNMuLy8mWC1tUMsshGdijrx/Qda2uTy23Lt5frbhPkmmkmkWGGGGMyS3ErkKkcaDlnZiAFHJNfc/7DX7Gsvwcsf8AhLPF0ccvjLUkBgsw/mQeH4ipHlp/C1wysRJKPUop2Z3eN/sL23wk+HU9t478cfEX4fDxXJETpemSa/auvh+J15LfPg3TqcOefLGUU/fLfU3/AA2r8H/+io+AP/B9bf8AxdfK51ja1S+HoRfL1dnr5Ly/P039rLKFGP76rJX6K6+9+fZdPXb06vE/jd8YtS8a+J7vwH4LvHsZLMAeJfEMRGNFjYZFrbno17IvP92BMux3eWj1fiD+1Fb/ABWH/CM/CnxBpeqXl0g/tTxJYSR3tr4cgbjchBMcl4wz5UTZUEb5AUXa/kOo+M/CGkWj+DNL1jTdJ8OaRK8eoNPqAN3qs+cyI0jHe25stNK3zSNlQQN1eBRw8ov3l73bt5tfkuu7039ipWU17r93uuvkv1fTZa7a8dvput6FaeH9DtY7PwHpC+RFCmdursGLN15aDeSWZuZ3LE5Xl9uSZpmLMeTya5yP4p+FYkVV8RaAqqAqqt7GAoHQAZ6Cl/4Wv4X/AOhk0H/wOT/Gu2MGlY5JSudBiqut61a+HNIuL++nS1s7VN8srdFH9STwAOSSBWS/xa8KxIzN4l0IKoJJF4hwB7A5P0FeFfFf4tz/ABN12GGNha6VHMEsbedxEJHPHnSk8KcZIB4Rc9ya6sLhZVZdkt32RhWrKC7voiz4t8Xat8bvGlrb2dvIV3EadYs21YF6NNKR/Fjlm52j5RyefbPht8PrT4baD9lt2+0Xlxh7y7ZdrXD+w/hQc7V7DrkkmuW+FUng34Z6My/8JN4futUvADeXX21PnI6RpzxGvYdzknk11P8Awtfwv/0Mmg/+Byf41pisRzpUqStBbefmzOhS5Xzzd5P8PJHQHmjpXP8A/C1/C/8A0Mmg/wDgcn+Nc18Tv2gdN8O6N5eg31hqmrXIIiaGQTQ2g/56Pjgkdl7nrxmuWnSnOShFas6JVIxXM2P+Nfxi/wCELgbS9LkVtbmXLydV0+M/xn1kP8K/VjwADxvwT+D/APwmrR6xq0bNoiuXhhl5bVJM5LvnrHuzkn75z25PNfC7RdG8Ya/PeeJNdsLfT4ZS86Xd4q3GpzdSGychP7x7/dGBnHvEfxT8Kwxqi+IvD6ogCqq3kYVQOAAM8AV6FaosPD2FH4n8T/RHJTi6svaVNui/VnRyTNK25utNxXP/APC1/C//AEMmg/8Agcn+NDfFnwqilm8TaCqqMk/bU4H515nKztujY1fV7XQNLuL69njtrS1QySyuflRf8ewHUk4r51+JnxOuPiTrKzOslvptqxNlaN1XsZZB3kI/75BwOcml+Lvxdm+JWprHD5kGiWj7raFhta4Yf8tpB6/3VP3Rz16cZLd19JlmX+ztWq79F2/4P5Hj4zFc/wC7ht18y5Jdiq8l3nNU5Lz3qrqGqx2FrLPPKkMMKF5JHOFRQMkk+ley5Hn8p93fsIeMNN8Dfsjza1rF7b6dpem6hqM9zczNtSJBMck/yAHJJAGTXbeBPCGpfGjxXY+OPF1lcWGn6e/n+GPD10u1rDIIF9dJ/wA/bKTtQ58hHI/1jPjy39hj4A65rnwv8Pal42tZLHRNOvJtW0PQplKySyySF0vbxD/y0UH91F/yzB3t+8IEf1RX5xjqkYV6nI7tt69lfZfq/l3PsMLBzpQ5tklp383+i+fYKKK5j4ufFnSfgz4OfV9VaWQySpaWVnbr5l1qd1JxFbQJ1eRz0A4ADMSFViPOjFyfLHc7pSUVzS2K/wAZ/jJp/wAGfC6XlxBcalqV9KLXStKtcfatVuSPlijBIA6ZZ2IVFBZiAK8Amn1jTfElxfajdWOr/EzxFbgXVzGGbT/DlluyIYgcN5KH7oID3Mo3sEXhDVdX1a08Uf8ACQa8tnqXxH163ePT7EOXsfDFhuGY1x/AGwZZuHnkAQEIiKk2i6bHoFvJ++lu7y6fz7y8mx515KertjgDsqDCooCgYFejRopKy26vv5Ly/NnDUqNu736Lt5vz/I0NC0238MaZ9mt2kk3u0088pzLdSt96WQ92P6AADgCpJb761Se4Z6YSW6nNdfMc5NLebjxmomkZ/akrmfih8TbX4a6KsjIt1qF1lbO13bfOI6sx6iNeMn8ByaIxlOSjHVsmUlFXZX+K3xRh+HmmrHCsdxrF4p+zQMfljHeaT0RfTqxwB3I5H4J/CSTx5dt4k8Q+ZcadNN58cc4+fV5Rj964/wCeIwAq/wAWOgUDdl/CP4bXXxb1qXxF4ikkudNkk3sWG3+1JFPCgfw264xgdcbQcbifdmu9qhVCqqgBVUYCgdAB2ArvqVI4eLpU3eT+J/ov1Zzwi6svaT26L9X+ho3Gob33MxZj1NVJb+qrSs/em4rg5jqJJLov0zUZJc/0o6mvHfjl8ZXu7iTw3oTySNJJ9mvJ7f5pJnJx9mhx3J4Zh06DuRpRoyqz5Y/8N5szqVFCPMxnxf8AitJ4vvj4b0JZrq2mk+zTNb8vqch4MEX/AEzHRm4B5GdoJPpPwb+FEPwv057i6aG4168j8u5mj5jt4+D5ER/uAgZPG4jPQAVj/BT4RR/DixXUNQWOTXriPYdvMenxn/ljH7/3m7ngcDnuHu2bpXRXxEIx9hR+Hq+77+nZGdKnJy9pU3/Jf59y9LfVWlvs1WLM3U0dK4rs6BzzM9ZvinxPZeDtCn1LUJfLtrcDOBueRj91EX+JmPAH9Oal13XbPwzo9xqF/OttZ2q7pJG7egA7sTwAOSTXzl8RfiZd/ETXRdTK1vZ25IsrTOfIU/xt6yMOp7DgdyezA4OWInZaJbv+upz4nEKlG/XoTeMvHN544146hffu9gKWtsG3JZxnqB6ueNzd8Y6AV9Sf8E2ZPN8BeKG/6i6/+k8dfGMt/wAnmvsX/gmJL5vw08TN/wBRkf8ApPHXp59ThTwHs4KyTX6nHlMpSxfPLezPpuivI9J+KXjT42ahdX3w/bwzY+ELVjBbatrFpPd/25IDh5LZIpYsW642iQlvMOSoCgM+h/ZPxi/6GD4Z/wDhP33/AMmV8W8PbSUkn21/yPpFiL6xTa76f5nplFeZ/wBk/GL/AKGD4Z/+E/ff/JlH9k/GL/oYPhn/AOE/ff8AyZR7Ffzr8f8AIr2z/lf4f5nplFeZ/wBk/GL/AKGD4Z/+E/ff/JlH9k/GL/oYPhn/AOE/ff8AyZR7Ffzr8f8AIPbP+V/h/memVn+Lf+RV1P8A69Jf/QDXhnxr+LPxW+EGm2sMerfDfWPEmseZHpGkQ6FepJeOi7nd3+2ERQRrhpJWBCjAALMqt6f4J8aXHxG/Z903X7uGC3utZ0FL2eOEkxpJJBuYLnnaCTjPOKcsPKEVUumn/X9ejJhiFKThZpo+EJ5M/Ds/9gwf+ihX1d+3gcfC3w9/2MFv/wCk9xXyVO//ABQB/wCwcP8A0WK+s/29Tj4U+H/+xgt//Se4r3cZ/vFH1/yPLw38Gp6HmP7Ir7v2htN/7Bt3/wC06t/tYS7Pj/qX/YOtP/alUP2PW3ftD6f/ANg27/8AadT/ALXUmz9oLUf+wbaf+1KP+Y/5B/zCfM9S/YPbd8PvEx/6mKX/ANJbWvcK8L/YGff8N/Ev/YxS/wDpLa17pXh47/eJ+p6mF/gx9Aor82/g98Efjd4Ok1DxroGrap4FvPGXi668L3LpbXms319b3HiJ2/te6tLsfZrdrazjeKB0RlKXTNIWRI0GkP2sP2ipLbxtNq11qGg2tj4ti0fVY7PwpLf6j4N0z+3Z7b7faR/Y/Luo306OCUuz3YDXDXARYUMK8p0H6JBtw45or8wfhz8Sfiv8KY/hpDMvjLwzoOraHIniPxonw+uLvWNO36xrE0S/Y2il8v7Q6WatEYm8lLnICbldOk8a/Er43/Db4I+LbzR28ZfEj4geGfiv4gNjba54Te4fRdOa11OWzmtUijiNxELd4ZY1V23ErbAozBQAfo1SP9w/SvgDV/j1+0H4m8JWtt4S8T+KZ9Jhv/EtxYeK7rwJF/aHiCxsdLgubFZbdoI4ojJevNBvWGMzJERGqswkH3P4A1m98R/D7RNQ1K3+y6jfadBcXUHltH5MrxqzrtblcMSMHkY5oA2G6r9aWs/xTPcWvhu/ktd32qO2laHaNx3hGK4HfnFflB8Ovj1r2reDLG48YfHD9vHR/FEqsdSstN+GcL2drNuOUiJ0ZyUHY7jkdzVKLYnKx+t9FflXb/Gm3gvI5j8fv+Cgkvlk/I/wyi2NkdwNFGf6VZk+OllcXG+T48f8FAo127dkHwziRc44POisevJ9fajlYuY/Uuivyr/4XTD/ANHBf8FBv/DXwf8AykpsPxpW41CG3j+Pn/BQpmmZl3/8KxtlRMLnLE6KMA9B70crDmR+pltrlleajNZw3lrLd22POgSVWkizyNyg5H41ar8xPhH4T/ZfvfDnjTxJ4s+LXxJuPiHdal/p+ueJ72Xw745hmSEeVHBaWkUEkiqgBVPs7qcchq6nwB8df2ltMXS4fgvD4s+L3ha4uAGvvjHo0XhuaK3PV0vIBFLMQOgezBOcljRyvoHMup7d+1Z/yWXXv+xatf8A0K+r5p/ZRfd4suP+wWv/AKMjr6J/aXubqT4m6i99HBDfSeFLJriOFy8aSf6buCsQCVBzgkDIr5w/ZTm2+K7r/sGIP/IiV9pl3+6L0X5nzeM/jv1ZxOsv/wATq+6/8fMv/obVTaWpNalxrl+P+nqX/wBDNUzNXt037q9DzJfEyZpcD/GsjxvLnwVrX/YPuf8A0U1XWm5rJ8bSf8UXrX/YPuP/AEU1XGXvIiXws/Sz4y/8lX+Ef/YJ1f8A9JbevM/FP/JUvFH+9Zf+kcdemfGf/krPwk/7BWsf+ktvXlvjCfyvip4n/wB+y/8ASSOvict/jx/wv/0pn02K/hS/xL/0lHzj8YpMfFLXl/6eB/6Ate0fFg4+E2tf9eP/AMTXhvxhmz8VNa97hf8A0Ba9r+LVzn4U60P+nL/4mvpqnwx9DxYbs+enuOf6VG834e9QPcYqJ5/wzXoORx2J3m/yapa1cZ0e9/695P8A0A055qo63P8A8Sa95/5d5P8A0A1KlqU46H6z/sz/APJuHw//AOxb07/0ljr5i0T/AJNm+HP/AGEYf53dfT37M/8Aybj8P/8AsW9O/wDSaOvl/SG2fsx/Dk/9RGH+d3XweH/jf9vr/wBuPqKn8Nf4H/7aXQeKivXAtJv+ubfyNRveYFU769/0Wb/rm38jX1NzxTxj9nWXd8Q7ZfS1m/kK99zXzz+zfNj4kQ+1rN/IV75Je4NaVH733fkjOnsUfHzf8UNrX/XjN/6Aa4v9mJt3hrVT/wBPcf8A6KFdL48vN3grWB62U3/oBrkv2XLnb4T1Q/8AT2n/AKKFQn7r+X6ldV8/0PVM15v+0xJt8G6f/wBf4/8ARbV3U16RXm/7Sd3v8G2P/X8v/oDVUH7y9UEvhZ5HJcZqF56rtc1C9xkV6PMcXKWXuB/+uk065P8AwkWibev9saeR/wCBcNUZLinaTPu8TaGP+ozp/wD6Vw1EpaD5dD9kqKKK/Lz7o8BmYn9oz4kLk4D6Rgen+ivXlHh+RhZ3A3N/x/XfQ/8ATxJXq0v/ACcd8SP9/SP/AElevJNEmWK1uP8Ar9u//SiSvosr/jy/wx/9JR42M/hL/FL82aXmt/eb86DOV6u351Tmv8Cqs+oV7tzzCr8Tr7Pw514bm+awlH/jteRfAu43/FrS8H/lnc/+iHr0P4j3+/wHrS+tlKP/AB2vL/2fbjf8XNO/65XP/olq1py9yXy/Mzn8UfmfRXmt/eb86PNb+8351BLebRxVWbUDWdzQvvebR99vzrw/9oa83fEOE5/5h8f/AKMkr1abUea8T+P97u8ewt/04oP/AB960oS/eL+uhnV+Bnr3wRlb/hVuk/M2NsnQ/wDTRq6rzW/vN+dcf8EZ1j+FWj/7j/8Aoxq6Sa/xWdyy4ZyvV2/OsL4i3+fAOuLubmwmHP8AuGp59Rrn/H1/u8EawP8ApymH/jhqZS0GeEvdiq8t3nvVNrvj8Khkuq9ZzPPUS1Jd49a9U/Yn+BOpfHb4u6lqFrJ4dkt/AkdneJY6vayzwXVzO0xilYRyJkRfZyQhyCzhjyorxmS6Ir61/wCCPz7/ABl8VP8Ar20X+eoV52Z15U8LOcN7L8Wl+TOrB0YzrwhLZv8AJN/ofTP2H4vf9BT4b/8Agrvf/kij7D8Xv+gp8N//AAV3v/yRXpFFfB/WH2X3I+s9iu7+883+w/F7/oKfDf8A8Fd7/wDJFeRaXqGr+KNf8TeM/FU9jqXiHwrcajoumQ20bR2OmxQgCRoUZmYST4HmOSW2gICFyD9S18u6b/yLHxK/7GLXa1jUbg9EtloraPczlTSmtW93q+xwHhu/8SRWkl9JcaHc32rbLm7uZIJvMlO35V4bARFO1VHAGe5JOgdb8Sf3vD//AH4n/wDi6i0WZY9Csf8Ar2i/9AFSTagE6V9V9UoroeF7afcDrfiMfxeH/wDvxN/8XUcniXxBH/H4f/78zf8AxdVrjVeDVC41X3pfVaXb8xe2n3NC68a+ILWGR/8Ain28tS+PKm5wM/368V0Br340fEVZdQuIZZ7xTPOJQ3ltEmMQKFIKpzjg56nqSa9I1PVc2k/P/LNv5GvNf2bLjzPiTCP7tlL/AOy1vh6MIKTitbGdSpKTSZ7wmseIooo44/8AhHI4olCRxpbTKkagYCgBsAAcACl/tvxH/e8P/wDfif8A+LqWS6VKqz6ntHpWP1Wj2NPbT7kh17xEv8fh/wD78zf/ABdQyeKPEEf8Xh//AL8zf/F1TuNWx3qhcatxS+q0u35h7afczPi/8UPEWi+FhCs2m2/9oyfZmntEkWaNdpJ2lmIBIGM9Rnjmsf8AZ68N3Vlbya9ZrpLTK72lsLqKRvsirwxTawG5s4LdccdznJ+O2omTw7Y+13/7Tauu/ZwmB+GCt63k/wDMV0xowVFxS3ev3GbnJ1OZ9Edt/bfiQ/xeH/8AvxP/APF0n9t+I/73h/8A78T/APxdLLfKgqrcariuf6rR7Gntp9yZ/EPiFB/rPD//AH5m/wDi6hk8XeII/wCLw/8A9+Zv/i6z7jVjiqN1q2an6rS7fmHtp9zz341/EDVPEvihrHUJLdbfSWURQ2yssLOyBjKQxJLYbAz0A46muHm1CrnxTv8Ad4/1Tnq8f/opK5ia/Oe1e1huWFJRiefWvKbbNGS+ycfgK+nP2C/hnrvxq+FWq6XeRXGm/DXUdTaa+uFcpL4qCosbWkZHK2m5GEsg/wBbzGp27yfjjxlqDr4T1VkLKy2cxDA8j5Gr9TfA37I3w1TwRoyx+D9KijWxgVI4w6Ig8teAA2APYV5Wd4qMKMU929Ha9rfNa66dvU7ctoSnUdtktVe17/J6aa9z1aysodNs4be3hjt7e3QRxRRqFSNQMBVA4AAGAB0qSvOf+GSPhx/0Kenf99Sf/FUf8MkfDj/oU9O/76k/+Kr43lo/zP7l/wDJH0vNV/lX3v8A+RPRqK85/wCGSPhx/wBCnp3/AH1J/wDFUf8ADJHw4/6FPTv++pP/AIqjlo/zP7l/8kHNW/lX3v8A+RPRq4341fGaz+DfhyGZrabVta1SX7Jo+kW7BbjVLkjIRSeERR8zyN8saAsewOX/AMMkfDj/AKFPTv8AvqT/AOKrzDVPhf4f+G37Vc8Gh6Va6fG3g5JMR5O1mvyGI3E4JAAOMZAAOcCrpwo6u7dtbWtf53ZnOdXRWSvpe97fKyJvDnhG9sZdX8QeIbyHVvF+uW5W/vIlK29tEoZks7VW5W2jJOM/NI2Xf5jgeh/Af/k0Pwv/ANivB/6TCud1H/kH3H/XJ/8A0E10XwG/5NF8K/8AYrwf+kwo9o5wcpd1+TKUFCajHs/zR8NzSf8AFCY/6h4/9Fivrf8Ab6OPhN4f/wCxgt//AEnuK+QJZf8AiiP+3Af+ixX15/wUAOPhDoJ/6mC3/wDRE9e5jP8AeKXr/keXh/4VT0PLf2Nn3ftE6f8A9g27/wDadTftjSbP2hL7/sG2n/tSqv7Fz7v2irH/ALBt3/7Tp37aUvl/tDXn/YMtP/alT/zHfIf/ADC/M9Y/4J+tv+GPiQ/9TFN/6S2te8V8i/Br4yXH7P8A+w/8VvHFnZ22pXXhi8vdQhtriYwwzvHZ2xCu4BKqTjJAOBXN6R+2V+0Xq2kWl2sX7JMa3UKTBW+Id5ldyg4P+jds142NV68/U9PDP91H0Pt6iviuy/a3/aKN2ftB/ZKEGzgR+P7wtuz6mADGKml/ay/aGLzGOT9klVUZiD+P7zc/OMHFvgHHNcvKzfmR9nUV8U/8NdftGf3f2R//AA4d5/8AI1Rr+2P+0M90IVf9kNpipkEY+It3uKg4Jx9nzgHjPrT5WLmR9tUj/cP0r40+Evw4/aY8PfDqbxdD8bPAuuaxqFzPf3ei63Yf2l4Yt4i5Kw2moQGC4hRF43yLNyPu1X+Hv/BYKzl+L+i/DvxR4KutW8UarOLSS++Hd4PFuj2smcbp5olVrZB1PmqCBRysakmfaTruwDVf+y0/vy/g5qy3VfrS0lJrYHFPcq/2Wv8Az0m/77NH9lr/AM9Jv++zVqinzMXJHsVf7LX/AJ6Tf99mj+ykz9+X/vs1aoo5mHJHscdpvwH8I6P4+vvFNp4Z8O2viXU9pu9Yj0yBdQuto2rvuNvmNgcDLcDgV1MenRqdzDc3q3JqxRRzNhyo+UP2vn8r416z7+GrXj/gd7XzF+y1Nt8UXR/6hyj/AMiJX0r+2XN5fxw1X/sW7X/0O9r5g/Zhm2+JLr/rwUf+REr7LL/91XovzPnMZ/HZx+uS/wDE8v8A/r6l6n/bNUWl49f5VLrsv/E9v/8Ar5k/9CNUy5b/AOvXsQfuo86W7JWmwP8ACsnxlLnwdrH/AF4XHT/rk1aB5NZvjH/kT9Y/68Lj/wBFNWkX7yM6nws/Tb4z/wDJWfhJ/wBgrWP/AElt68h+IM/k/FnxN9bI/wDkpHXr3xo/5K18Jf8AsFax/wCktvXivxTn8r4veJB7WX/pIlfF5d/Gj/hf/pTPpMV/Cl/iX/pKPnT4uT7vilrHvOv/AKAtey/FS63fDHWB/wBOX/xNeH/FSTd8T9U95l/9AFevfE263fDnVl/6dP8ACvpJ7R9Dx47s8FafHeo3nwetR5Jo6V3cxyimQsKqa1/yBrz/AK95P/QDVqqutf8AIGvP+veT/wBANC3A/XD9mj/k3H4f/wDYt6d/6TR18t2r+X+yz8PG9NRg/wDQruvqT9mj/k3H4f8A/Yt6d/6TR18qyP5f7J3w/b01CD/0K6r4fD/xn/jX/tx9NU/hr/A//bSrLfYXrVO+vs28nzfwN/I1TkveKp3l7+4k/wB0/wAq+mPFR5j+ztc7PiIn/XtN/IV7jLfZ714F8ApfK8fBv+neUfyr2WW+rSp8X9diY7DPG15v8I6sM9bOUf8Ajhrl/wBme62eEtS97tf/AEWK0vGF5nwtqY9bWUf+Omub/Z1uPK8J3w/6eVP/AI4KlPR/L9Suv9eR6lNfc/erzv8AaIu9/g215P8Ax+j/ANAauslvea4L493HneErcf8AT2v/AKC1EfiXqEtmeVyXPPWo2kZ6TpRXfc4wxmp9G/5GfQv+wzp//pXDUFT6N/yM+hf9hnT/AP0rhpA9j9laKKK/Mz7g8Al/5OO+JH+/pH/pK9eIWl95a3a5+7fXf/o+Svb5f+TjviR/v6R/6SvXzxJe+Xd6gv8Ad1C6/wDR719Dlv8AGl/hj/6SjxsZ/CX+KX5s1J9R4+9VWbUMn71Zk2o1Un1HmvZ5jzbDfHt/v8F6uu7raSf+g15v+z7dkfFSxb0huP8A0U1df4yvjJ4V1JfW2kH6VwnwNl8n4j2bf9MZ/wD0Ua2pv3JfIiS1XzPoSfUuDzVSfUPes6fUKpz6jWVyrGlPqPX5q8d+O13v8aW5z1s0H/j7V6JPqPHvXlvxik83xZbsf+fVR/4+1aUZe+hVI+6ey/Bu+8v4W6Ouf+Wb/wDobVuT6jn+KuL+Fd75Xw50tfRG/wDQzWvNqPFQ2M0p9Qz/ABVh+Nr/AHeEdVGc5tJf/QTTZ9Rx3rG8WXxk8MaiPW2k/wDQTU8xSieMG4LDj0pp5NC9KK9O5whjFfXX/BHv/kcfip/17aL/AD1CvkWvrr/gj3/yOPxU/wCvbRf56hXnZt/uVT5f+lI7Mv8A95h6v/0ln3FRRRXwZ9YFfLum/wDIsfEr/sYtdr6ir5e0znwz8Sv+xi12uil8D9V+pjU+Nej/AEPL9O1XGiWfP/LvH/6AKiudW/2qwbHVcaRa/wDXCMf+OioLjVq+z5j5rlNe41XH8VULjVf9qsyS+aQ1CSWPJqeYrlLOoapvglAOcxsP0NcJ+zfdGD4iqxP/AC6Sj/0GuvuP+PeT/cb+RrgvgTP9n8bhv+naUfyrSn8LIluj3+41bn71ULjVeD81ZNxq1UZtU3A4qOYrlNa41Xn71UbnVePvVnSXDSH0pnWlcdjmfjTfGbw7a/8AXyP/AEFq7T9nu/8As/wwiXdz9qmP6iuD+MX/ACL1t/18/wDsprovgvf/AGf4fxr/ANPEp/UVqv4fz/QiXxfI9GuNX4+9VG41Xn71ZFxq2R1qlLqLSHis+YrlNS41Xj71UrjVefvVRaRn6mkPAqR2PLfiZO0vjm/7ZKH/AMcWsE8+/wBa2/iP/wAjvff8A/8AQBWJXoU/gRyVPiZm+Mv+RP1b/rym/wDQGr9mvBH/ACJej/8AXlD/AOi1r8f7T4f6t8TNO1jTdHtWuriLSrq7mOdqW8McTM0jt2UYx7kgDmv2A8EDHgvR8gqfsUPBGCPkWvn+IpJxhFb3f6HrZPFqUn5L9TUooor5c94KKKKACvCPiZ/ydtN/2JcX/pwavd6+bv2hvG0Pgj9qWNhaXOqapqnhGK00vS7VgLjVLj7ex8tCeFAHzPI3yxqCx9D0YeLk5Rjvb9Uc+IkoqMpbX/zJ/iJ4zPhuzttPsbOTWPEmvl7TRtJhbbJey7fmdm6RQRKd8krcKowNzsiN6x4M8FTfDf4Bad4fuJ47q40XQ0spZo1KpI0cG0lQecEg4z2rL+A3wQm+Hwutf8RXFrqnjjXEAv7qBSLaxiB3JZWgb5lt4/U/PKwMj8kKvbeK/wDkVtS/69Zf/QDRKUYr2cdddX3fl5L8d+yVQjKT9pL5LsvPzf4bd2/zRd8+Df8AtxH/AKAK+wf+Cgpx8HdD/wCxgtv/AERPXx43/Im/9uQ/9AFfYX/BQb/kjmh/9jBbf+iJ697Gf7xS9X+h5eH/AIVT0PJv2Jjn9oqy/wCwZd/+06X9tw4/aIvP+wXa/wA5Kb+xL/ycVY/9gy6/9p079tz/AJOIu/8AsF2v85KX/Md/26H/ADC/M9I/YZ8Lab43+Ani/SNY0+x1bStS1y5truyvbdLi3uomtbYMkkbgq6kcFWBBq0P+CVX7NqDC/s8/AUDt/wAW+0n/AOMVN/wTu/5JP4i/7GOf/wBJrWvfq8bGSary9T0sPFOlH0Pnz/h1Z+zd/wBG8/AX/wAN9pP/AMYo/wCHVn7Nv/RvPwF/8N9pX/xivoOiuXmZtyo+fP8Ah1Z+zd/0bz8Bf/DfaT/8Yqay/wCCXX7OenyF4f2ffgVCzDaxj8A6Uu4ehxB09q99oo5mHKj5T8Ef8Eh/hD4X0+60nUtL1jxZ4Vku5bu28La3qclx4a05pH3lYdMXbaqqt93dGxXJAPJr6M8HfDfR/h9olvpuiaXpui6bZR+Xb2enWsdrbwKBgKscYCgD0AroKR/uH6Uc76ByrqDdV+tLSN1X60tSUFFFFABRRRQAUUUUAfH/AO2xJ5fx01L38N2v/oy9r5h/Zsk8vxFdf9eS/wDoxa+l/wBuWTZ8d7738NW3/oy9r5i/Z8fytduD/wBOYH/j619ll7/2Vei/M+bxn8d/M5HWznW77/r4k/8AQzVWrGsHOsXn/XxJ/wChGq9exD4UebLcKzfGP/In6x/14XH/AKKatKs3xj/yJ+sf9eFx/wCimrSHxIzqfCz9NvjR/wAla+Ev/YK1j/0lt68J+Mk/lfGXxF/uWR/8lUr3b40f8la+Ev8A2CtY/wDSW3r58+O9x5Pxr8Qe8dl/6TJXxuX/AMaP+F/+lM+kxP8ACl/iX/pKPn74lP5nxH1E/wDTVf8A0EV6l8RLrd4A1Rc9bX/CvJ/Hr7/Ht8fWRf8A0EV6N47uvM8FaivrbY/lX0U9o+h5Md2eP0UUV3HGFVta/wCQNef9e8n/AKAas1V1r/kDXn/XvJ/6Aacdwex+uH7NH/JuPw//AOxb07/0mjr5Q1J/L/ZD8BN6ahb/APod1X1f+zR/ybj8P/8AsW9O/wDSaOvkvxC2z9jfwMf+n+3/APQ7qvh8P/Gf+Nf+3H00/wCGv8D/APbTj5b7/aqnd32YX/3TUOS3WmzDED/7pr6M8k89+CcnleNA3/TGQfyr1Wa+5+9XkXwlbb4q/wC2Un9K9MPzda1rfF/XYinsQ+Kbzd4d1AettJ/6Caw/gTceT4ZvOf8Al4U/+OCtTxJx4ev/APr3k/lXP/BtyugXQH/PZf8A0GpXwv5fqN7r+ux3k19n+KuL+M1z5vhm3H/TyP8A0E102M1yfxf/AORcg/6+V/8AQTSp/EglszzuiiivSOEKn0b/AJGfQv8AsM6f/wClcNQVNo5x4n0L/sM6f/6Vw0A9j9lqKKK/Mz7g8Al/5OO+JH+/pH/pK9fMGqXvl6zqi+mo3f8A6Pevp+X/AJOO+JH+/pH/AKSvXyxqv/Iwat/2Ebr/ANHvX0GX/wAaX+GP/pKPHxX8Jf4pfmxj3DP3ph56kmiivYPPM/xZ/wAixqH/AF7Sfyrg/hHL5Pjm1b0jmH/kM13niz/kWNR/69pP5V5/8Lf+Rwt/9yX/ANFmtqfwS+RnL4kerS3zP0qJpGfqf1pKKxNAAxXm/wAXf+Rpt/8Ar2X/ANDavSK83+Lv/I02/wD17L/6G1bUPjRnU+E7j4e3vleBtPX0Vv8A0I1pvctJ3NYfw/8A+RPsf91v/QjWzWT3NAPJ5JP1qj4n/wCRc1D/AK9pP/QavVR8T/8AIt6h/wBe0n/oNIDx1fu0UL92gnAr1DzwZgikngDkk9q+0f8AglH4D1bwX4j8fXGqWclkuuaVol/ZpJxJJAZNSVXK9VDFSRnkjB71xn7Cn7FTfEu6s/Gniu1P/CPwuJdMsJV/5CbA8TSD/niCOB/Gf9kc/XXhCJYf2nvGarjjwxoQ4H/Txq1fO5tmEZQnh4dld/8Aby0PYwOElGcKsu+n3M9Eooor5U+gCvl/TP8AkWfiV/2MWu/1r6gr5F1jxkvh3RvHGnW1rNq2va14m12PT9NgcJJMqn95M7H5Y4IlO55G4HCjc7Kp6qEXKLUe6/U560lGSb7P9DwfTpWfTLX5v+WKDj/dFTAVBpn/ACDLfB3DykwfX5RU9fXHz4UUUUAMuP8Aj3k/3G/ka83+EjmPxSpH/PGQfyr0i4/495P9xv5GvOvhLZzNrn2kQyfZkDQtLtOwORkLnpuxzjritI/C/kRLdHpDFn6saMYoorMsKKKKAOR+MX/IvW3/AF8/+ymrvwslYeD0UHjzpP5iqXxkYJ4ctyeALnJJ7fIa0Ph1YT6b4bWG5hlt5hIzGORSrAMAQSD6gg/Q1p/y7t5k/a+RvYzRRRWZQUHpRQelAHlXxH/5He+/4B/6AKZ8Pvh/rHxU8ZWPh/QbRrzU9QfaijhIlHLSSN0VFHJY/TkkA6ms+ENU8f8AxebRdFs5NQ1TUJI44IE/iOxcknoqgcljwBX6G/slfso6b+zl4O8vdFf+IL9VbUtQCY81hz5ceeREp6A8tjceTgLGZhHDUlb4nt/mPD4N1qjvsT/s5fsn+H/gf8MbjQ/s8OpT61CU1m6mj+bUtylShHaIKzBU6AEnqSa5P4x/s1eB/h3p/h610DwTZ6hqWvaqmk20V3rl7bW8I8iaYsWV2OAsBAAHUjoK+iAMCvO/jv8A8jX8MP8Asbl/9N1/Xy1HE1XVcnJ63b1eunke3Ww9P2drLotl3Xc8j/4ZL1L/AKJt4I/8K/VP/iKP+GS9S/6Jt4I/8K/VP/iK98+Mfiy68BfCLxVrtisL32i6Pd39uswzG0kULuobkfLlRnkcV8Q/s4/tjfHf9oTVPCfgyTWtJ8Pf8JtbPrOleNr7wXLZzXttBYWs11aw6dNOAxjurpUFySFeNHAjLL5pr+0q39OX+ZP9n0v6Uf8AI9i/4ZL1L/om3gj/AMK/VP8A4ij/AIZL1L/om3gj/wAK/VP/AIivG9A/4KB/F34v/CLxp4v0nWvh/wCG2+DPhRNc1q2OlyXlp4xuluNQjkMcjTK1pYyJpzGIr5jh5jl2EWJPWPDv7Uniz4nfssfFDxZdeLdH+GsvhPxbqWnW+qSeHm1Zraxt3QRwi181DNdMXEYC5LuQqxlmAo/tKt/Tl/mH9n0v6Uf8i5/wyXqX/RNvBH/hX6p/8RXVfsq/DnQ/DvxE8XmTwToOg+K/DjQaY99Z302oNLbTQR3IRJZwHjXc3zIuASqnnjHo37PXiPxZ4w+AngnVvHmkWvh/xtqmg2V3r+mWxJh0+/kgRriFNxY7UlLqAWbGMbm6nC+EP/JfPi3/ANhDTf8A03Q0/rdSrTmpPp3fdLuT9Vp06kHHv2XZvsem1n+K/wDkVtS/69Zf/QDWhWf4r/5FbUv+vWX/ANANefHc9A/M9v8AkTf+3If+gCvsL/goN/yRzQ/+xgtv/RE9fHrf8ib/ANuQ/wDQBX2F/wAFBv8Akjmh/wDYwW3/AKInr6XGf7xS9X+h4uH/AIdT0PJf2Jf+TirH/sGXX/tOnftuf8nEXf8A2C7X+clN/Yl/5OKsf+wZdf8AtOnftuf8nEXf/YLtf5yUv+Y7/t0F/uvzPWP+Cd3/ACSfxF/2Mc//AKTWte/V4D/wTu/5JP4i/wCxjn/9JrWvfq8TG/x5ep6eF/hR9AooorlNwooooAKR/uH6UtI/3D9KABuq/WlpG6r9aWgAooooAKKKKACiiigD4w/bxm8v493Y9fDdt/6NvK+YvgZJ5Ws3H/XoB/4+tfS/7fn/ACXu5/7Fu2/9G3lfMnwX/wCQrN/17D/0Ja+yy/8A3Vei/M+bxf8AHfqzmtUOdVuv+u7/APoRqCptT/5Cd1/12f8A9CNQ17EPhR5stwrN8Y/8ifrH/Xhcf+imrSrN8Y/8ifrH/Xhcf+imrSHxIzqfCz9NvjR/yVr4S/8AYK1j/wBJbevnb4+/8lx17/rlZf8ApMlfRPxo/wCStfCX/sFax/6S29fO3x9/5Ljr3/XKy/8ASZK+My/+NH/C/wD0pn0mI/hy/wAS/wDSUfPnjr/keb7/AK6L/wCgivQPGv8AyJl//wBe/wDhXAeOv+R5vv8Arov/AKCK7/xr/wAiZf8A/Xv/AIV9HU2ieTHdnk9FFFdxxhVXWv8AkDXn/XvJ/wCgGrVVta/5A15/17yf+gGnHcHsfrf+zR/ybj8P/wDsW9O/9Jo6+SfEn/Jmngf/AK/7f/0O6r62/Zo/5Nx+H/8A2Lenf+k0dfJPiT/kzTwP/wBf9v8A+h3VfEYf+M/8a/8Abj6af8Nf4H/7aefjpTZ/9Q/+6acOlNn/ANQ/+6a+iPJPNfhP/wAjT/2yk/pXpleZ/Cf/AJGn/tlJ/SvTK1rfF/XYinsUfEv/ACL19/17yfyrnfg5/wAgK5/67L/6DXReJf8AkXr7/r3k/lXO/Bz/AJAVz/12X/0GoXwv5fqPqvn+h2Fcn8X/APkXIP8Ar5X/ANBNdZXJ/F//AJFyD/r5X/0E0U/iQS2Z53RRTZJFiQsx2qvJJ7V6RwjicDv6AAZJPtX1N8Mv2Lm+H/wF1Pxr4stSviCRrNtOsZF/5BaG7g+dx/z2Ydv4Bx1Jx1H7Bv7Er6bNZeOvGFntvMCbSNNmT/j1B+7cSqf+Wh6op+79484x9DftUwiH4B61/wBdbT/0rhr53G5pzVo0KT0urvvrt6HsYfA8tGVWpvZ2+49Iooor5U+gPAJf+TjviR/v6R/6SvXyxqv/ACMGrf8AYRuv/R719GePPG0fg79oPx/HDZ3Gr61qk+k2uk6VbEC41Kf7I52gnhI1HzSSt8saAsc8Kfm+8t7yy1jUodQazbUIr+5S6NoWNv5omff5ZYBim7OCwBIwSB0r6LL4NVHJ7NR/9JR4uKmnBRW6cvzY2ijdRur1jhM/xZ/yLGo/9e0n8q8/+Fv/ACOFv/uS/wDos16B4sOfDGo/9e0n8q574Z/DLWLbQrHxhNb+Rod1dyadbSucNdyeRIzFB3RdhBb1OBnBxpGSjB362JlFuSt5nY0UbqN1ZlBXm/xd/wCRpt/+vZf/AENq9I3VwvjbwxqHjb4maVo+kWc2oanqMaQ21vEPmkYu34ADqWPAAJNaUZKMrvYmom1ZHQ/D/wD5E+x/3W/9CNbNVtM8Nz+DIZNHunhkutJuJrSZoiTGzpIVbaSASMg4OBVndWfMnqittAqj4n/5FvUP+vaT/wBBq9uqj4nOfDmof9e0n/oNAHjoPy19FfsQfsZSfG3UIfE/ia1kXwjayZtrdwVOsyKef+2Ckcn+M5A4yay/2Lf2O7n9oHW49a1qOS38G2MmG6q+rSL/AMskPaMH77/8BHJJH6NaLotvomnQ2trDFb29vGsUUUShUjRRgKoHQADpXHm2aci9jSevV9vI6MvwPN+8qbdDLufGPh3wfKtjeaxoumyxIuIJruKFlXHy4UkYXAwOMcV5/wCNNP0HxB4/uPEWj/FxvCd5fWFvp93Hp91pU8VykEk7xMRcwylWBuJR8pAIIyOKh8H/AAx8NeNv2hfilca14d0LVriO601FlvdPiuJFX7DHwGZScdePc1D8d9e+An7MllpNx4803wH4ch1yeS3smuNEibzmjiaaU/JEcKkSM7OcKqqSSBXg/u6T3d2lfRNapPqep+8qLZWTfV30bXQPsD/9HE6x+Xh7/wCQ6PsD/wDRxOsfl4e/+Q6z7P4j/s56j8Yo/ANvD8O5vFM0wtUtU0eFo3uDbi5FuJhH5RnMDLL5W/fsIbbg5rJ8NftBfsueL49ak0+4+Gs8Wg263l1IdHiSNrZp1txcRM0QE8PnMsfmxFkDMBnkZf1in/UY/wCRP1ep/Upf5nTfYH/6OJ1j8vD3/wAh0nww+HHw3+GVl4okXxpZ63rnjKSZ9V1i/wBUtDdzeZnKIIwkcUYJJCRoq7iWILEmpdT1P4E6L8bbH4c3mk+BrbxlqUJntdPk0OJftA2M+1ZPK8sybFZ/L3b9oLYxzWr8ZPgL4FtPhF4pli8F+Eo5I9Iu2Rl0e3BUiFyCPkpxrQl7ibV7bKK/Il0Zx9+ybXdyf5nCW3/BPLw/FbxpF4i8VNGihUO+1OQBxz5PpT/+He2h/wDQw+Kv++rX/wCM17X8KB/xa3w1/wBgq1/9ErXQYqZY6unbmNo4ak0nY+dP+He2h/8AQw+Kv++rX/4zR/w720P/AKGHxV/31a//ABmvovFGKn6/X/mK+q0ux85yf8E9NDeNl/4SLxVhgQfmtf8A4zXQ6v8AsTeFbn4Y6F4YsX1LR7HQZnuI3tHjM1zK67XkmaRG3s3UnA7AYAAHteKCM1MsbWdm5bDWGprofOn/AA720P8A6GHxV/31a/8Axmj/AId7aH/0MPir/vq1/wDjNfReKMVX1+v/ADC+q0ux86f8O9tD/wChh8Vf99Wv/wAZo/4d7aH/ANDD4q/76tf/AIzX0XijFH1+v/MH1Wl2PnzRP+CfXhSy8Sabfajea1rkOm3AuY7O+eH7NLIPumRUjUsAcHaTtJAyCOKv/ED9iHRfHfjbUtak1rxFaz6pN58sUDW/lI20L8u6InHyjqTXumKMZqfrta/Nzaj+rU7WsfOn/DvbQ/8AoYfFX/fVr/8AGaP+He2h/wDQw+Kv++rX/wCM19F4oxVfX6/8wvqtLsfOn/DvbQ/+hh8Vf99Wv/xmj/h3tof/AEMPir/vq1/+M19F4oxR9fr/AMwfVaXY8p+BP7KXhz4G6tqWoWP2q/1bVNqzX18UadY1AAiTaqqqcZOBlj1JwAPVlXaOKOlFc9SpKb5pPU2hBRVohXmf7RWq2ui698M7m9urazto/Fql5riVYo1/4l1/jLMQOeg9SQK9Mqh4j8LaX4x002Wr6bYarZswcwXluk8ZYdDtYEZHrRRmoyuyasXKNl/VjC174g+B/FGh3mm6hr3hi80/UYHtbm3l1CFo54nUq6MN3IKkgj0NcP8AFL4WfAz41+AtG8MeKLfwLq+h+HQg0q3kvYkOmBI/KUQOrh4/3fyHawypKnIOK7X/AIZ98A/9CP4Q/wDBNb//ABFH/DPvgH/oR/CH/gmt/wD4itP3Hn+Bn+/8vxPN/GH7O/7Ofj2+8M3GreHfhddN4NtIdP0dP9FjisrWFg8NsI1IRoI2AZInBRG+ZVB5rM8X/sk/szePdc17UtX8P/Dy8vPFF/HquqSNfIv2u8jdXS5IWQATB1VvMUBsgHOa9b/4Z98A/wDQj+EP/BNb/wDxFH/DPvgH/oR/CH/gmt//AIij9x5/gH7/AMvxIfBfivwD8PPCen6Ho2u+G7HSdJgW2tLddUjYQxqMKuWck4Hckmud+BOuWXiH43/Fq50+8tb63bUdNUS28yypkadBkZUkZ9q6j/hn3wD/ANCP4Q/8E1v/APEVu+F/Bej+B7KS20XSdN0e3lfzXisrVLdHfAG4hAATgAZ9hT56UYyUL3atrbun+gclSUoudtHfS/Zr9TSrP8V/8itqX/XrL/6Aa0Kz/Ff/ACK2pf8AXrL/AOgGueO50H5nt/yJv/bkP/QBX2F/wUG/5I5of/YwW3/oievj1v8AkTf+3If+gCvsL/goN/yRzQ/+xgtv/RE9fS4z/eKXq/0PFw/8Op6Hkv7Ev/JxVj/2DLr/ANp079tz/k4i7/7Bdr/OSm/sS/8AJxVj/wBgy6/9p079tz/k4i7/AOwXa/zkpf8AMd/26C/3X5nrH/BO7/kk/iL/ALGOf/0mta9+rwH/AIJ3f8kn8Rf9jHP/AOk1rXv1eJjf48vU9PC/wo+gUUUVym4UUUUAFI/3D9KWkf7h+lAA3VfrS0jdV+tLQAUUUUAFFFFABRRRQB8Vft+f8l7uf+xbtv8A0beV8yfBf/kKzf8AXsP/AEJa+m/2/P8Akvdz/wBi3bf+jbyvmT4L/wDIVm/69h/6EtfZZf8A7qvl+Z83iv4/zZzOp/8AITuv+uz/APoRqGptT/5Cd1/12f8A9CNQ17EPhR5stwrN8Y/8ifrH/Xhcf+imrSrN8Y/8ifrH/Xhcf+imrSHxIzqfCz9NvjR/yVr4S/8AYK1j/wBJbevnb4+/8lx17/rlZf8ApMlfRPxo/wCStfCX/sFax/6S29fO3x9/5Ljr3/XKy/8ASZK+My/+NH/C/wD0pn0mI/hy/wAS/wDSUfPvjr/keb7/AK6L/wCgiu/8a/8AImX/AP17/wCFef8Ajr/keb7/AK6L/wCgivQPGv8AyJl//wBe/wDhX0dTaJ5Md2eT0UUV3HGFe2fsofshXHx2sdR8Ra3HJB4P063nKjJVtWlVG/doRyI1I+Zh1PyjnJDf2PP2RL39o3xGuoais1p4P0+XFzMPlfUXHWCI+n99/wCEcDk8fodqfhyz8LfDO+sbG3htbSz02SGCGJdscKLGQFUdgBXhZpmns37Glv1fb/gnrYHA869rU26eZm/s1H/jHXwF2/4p3T+B2/0aOvknxJ/yZp4H/wCv+3/9Duq+tv2af+TdPAX/AGLth/6TR18d+K/Eljb/ALLXw90ZrhTql5PHdx26qWYQpJcBpWwMIm5lUFsBmOBk5x42GTdZ2/nX/tx6FSSVON/5H/7acaOlNn/1D/7ppw6U2f8A1D/7pr6I8k81+E//ACNP/bKT+lemV5p8JY2bxKzhW2KjqWx8oJGQM+pwePavS60rfF/XYinsUfEv/IvX3/XvJ/Kud+Dn/ICuf+uy/wDoNdF4l/5F6+/695P5VzvwbP8AxIrr/rsv/oNSvhfy/UfVfP8AQ7CuT+L/APyLkH/Xyv8A6Ca6yuT+MBx4bg/6+R/6CaKfxIJbM86ZwilmIVV5JPavrf8AYN/Yn/4SF7Px14ws8Wi4n0fTZ0/1uOVuZVP8PdEPXhjxgVk/sJ/sVv8AEa8tfGfiy126BCRLplhKv/IScHiaQf8APEdh/Gefujn71jtlt7dgP7przc2zS16FF+r/AEO3L8Bf97U+SPLvCX7TUni7wzp2saX8O/iDd6bq1tHe2k4t7QefDIodHwbgEZUg4IzzVf4h/ECT4neDL7QdT+GvxMWx1BAsjW32WCZCGDKyOtyGVgyggg9RW/8Asl/8mq/DP/sVNL/9I4q8E+PX/BV6x/Z4+OPjTw7rHhKG/wBD8H3R06SXTtcSbXLi4Giw6ssg05olC2ridLYTmfib7yqmWHh1KkKdV8sdnpq+j9T0adOdSmnKW67Lr8jpP+EUm/6BP7SX/hSL/wDJVH/CKTf9An9pL/wpF/8Akqs3Xv2//G3gHxfB4D8SfC3TLX4o+ILjS4fDWmWHin7VpOoLffa2Zp71rWN4PssdjdyTbYJNyxL5XmM4QdF8C/27br4p/GvT/h3q3g/+xPFEY8SQayLfVBd2lldaPLpC7YJDHG00VxFrEEqOyxsgUqyZzivr0u34sn6jHv8Agh3wv0jTfhR4w1TxHafDT4sap4j1iGO2udU1e5gv7owx52RK8l0diDJJCgZPXOBjm5vgv4F1/wCIdjb6t4M+J3h248XalNHBcXmpCO1a5aOa5ZMRTuVysUpHy44xxkV6b+zZ+0T4g+Lfjzx94V8VeFdL8N654DuLJJ20rWzrFlKt3AZ44jK0EDJcxptMsRQhRLEyuyyDGx8cv+R6+E//AGNz/wDpo1Orp4qU5t9bPW76LTqKWHUIq211pZdWr9DkP+GCPA39zxD/AODy4/xo/wCGCPA39zxD/wCDy4/xr3SisPrtf+Z/edP1el/Kjwi4/wCCf/gG8geGaHX5YZBtdG1y42up6g89DXcfEH9nfw38RfBel6DfWc1vpuiyLLZw2Fw1mLfEZjAXZj5QjEY6fjXf0VMsVVk03J6DVGmtEjwv/hgjwN/c8Q/+Dy4/xo/4YI8Df3PEP/g8uP8AGvdKKr67X/mf3i+r0v5UeF/8MEeBv7niH/weXH+NdR8Jf2WfCfwe8R3GraTY3B1K4hFu1zd3cl1KkYJOxC5+UE8nHXjNemUVMsVVkrOT+8I4emndI8W1/wDYd8E6/r19qEkOuLPqFxJdTCPWZ403yMWYhQcKCSeBwKqf8MEeBv7niH/weXH+Ne6UVSxlZKyk/vD6vT7I8L/4YI8Df3PEP/g8uP8AGmXH7AHgK7t5IpofEEkUilHU65cYYHqDz3r3eij67X/mf3h9XpfyozPC3hay8JaFaadp9rBZ2NjEsEEEKbI4kUYCqOwFadFFczbbuzZK2iPNfhR/yXr4q/8AX5pv/pBHXD/tqfsbXX7XPxA+F/m6xqOj+GPDd3qp8Qf2bfGzvb61u9OltfsyOEYhJDJh9pRwvKupFdlf/DDxxoXxP8Ta54a1zwtBZ+JWtZXt9S0qeeWB4YBCcPHOgIIUHlcj1q1/ZHxa/wChg+Hv/giu/wD5LrqqRjNqSktl36JLsctOUoJpxe77dW/M+c9I/YM8dWF9a/DVbfwvY/CvSfiPefEGz8R2d7JHrAhnnuLxNOFt5ZCzRXFy0IuPNI+zQoNu8kDjdQ/YD+NXjP4KeHfDeqWfgDT7z4T/AAyl+H3h42epzNF4ome70aVrqX9yPscPlaLEBFiUiS4JJxEpb6+/sj4tf9DB8Pf/AARXf/yXR/ZHxa/6GD4e/wDgiu//AJLrP2K/mX4/5Gntn/K/w/zPMm8CfFv4p/tXeBPEnjLwj4XsfA/hOxN1aWdl4hM89jrE0c8U91MDbr54jhKRQqpQAzzu2SIwntnxs/5I34s/7A13/wCiXrA/sj4tf9DB8Pf/AARXf/yXWf4r8D/Fbxb4W1LSZvEfw/ih1O1ltHdNBu9yK6lSRm7xkA1dOnFSTc1v5/5EzqScWlF/h/mdt8KP+SW+Gv8AsFWv/ola6Cs/wnof/CMeFtN03zPO/s+0itvM27d+xAucds4zitCuebvJtG0FaKTCiiipKCiiigAooooAKKKKACiiigAooooAKKKKACiiigAooooAKKKKACiiigAooooAKz/Ff/Iral/16y/+gGtCs/xX/wAitqX/AF6y/wDoBpx3A/M9v+RN/wC3If8AoAr7C/4KDf8AJHND/wCxgtv/AERPXx63/Im/9uQ/9AFfYX/BQb/kjmh/9jBbf+iJ6+lxn+8UvV/oeLh/4dT0PJf2Jf8Ak4qx/wCwZdf+06d+25/ycRd/9gu1/nJTf2Jf+TirH/sGXX/tOnftuf8AJxF3/wBgu1/nJS/5jv8At0F/uvzPWP8Agnd/ySfxF/2Mc/8A6TWte/V4D/wTu/5JP4i/7GOf/wBJrWvfq8TG/wAeXqenhf4UfQKKKK5TcKKKKACkf7h+lLSP9w/SgAbqv1paRuq/WloAKKKKACiiigAooooA+Kv2/P8Akvdz/wBi3bf+jbyvmT4L/wDIVm/69h/6EtfTf7fn/Je7n/sW7b/0beV8yfBf/kKzf9ew/wDQlr7LL/8AdV8vzPm8V/H+bOZ1P/kJ3X/XZ/8A0I1DU2p/8hO6/wCuz/8AoRqGvYh8KPNluFZvjH/kT9Y/68Lj/wBFNWlSyeDtT8daLrVjpNo93cRaRe3cuDtWGGOB3eR2PCqAO/U4AySBVqSTuyJRbTSP0j+NH/JWvhL/ANgrWP8A0lt6+dvj7/yXHXv+uVl/6TJX0R8YpBP8VfhGy/dbSdXbJ4wPstuea+Zvil4rsfG3xX1zUtNkkuNPmFslvcNE0aXapAqGWLP34iwYLIPlcLlcqQT8dl8X7WL/ALr/APSmfR4mS9nJf3l/6TE8N8df8j1ff9dF/wDQRXoHjX/kTL//AK9/8K4LxpBJc+P7yOON5JGkG1EUszYQE4A9gT+Fd740OfBd9/17/wCFfRVNonkx3Z5PXcfs8fBDWPjt4suFtNC1rVvD+hzxR6vJpk1vHcAunmLEgldeWXq3IXPrWl+zD+zPq37SnjgWsHmWeg2LBtT1HHEQ6iKP+9K3YdFGWPYH7s/Zz8EaZ8NvjT8QdD0e0jsdN02x0SKGFB0AgnySf4mJ5LHkk5rDMMxVKMoQ1kl92qX36l4XBuo4ylom/wBG/wBCTwf8QtU8B+HrPSdJ+D/i6x0/T4lgt4IprFUiQdAP3/5k8k5Jyauat8ZfEmsaVdWcnws8arHdRPCzLcWO4BgQSP3/AF5rm/28P2w7v9kbRPB0lnb+EfO8Warc2Bu/E2tHSdNs1g0+6vTvmEchDyfZvLQbT80gPOMHz3wp/wAFKPEnivw/p3j5/h7DonwrbXdP8M6m+p6i8fiCwu7nyUkmNoIinlW9xOsLoziRgjuo4VG+R9vFu7gvvf8AmfQ+xla3O/uX+Rp+ER8ZfBHhXTNFsP8AhKhY6RaxWVuJfDGls/lxoEXcRfgE7QMkAZPYVz+m/s83WjfBaPwnbeCviU2oNew395rs50yW6vXiLlIynnhEhTzGCRrwg9SWY1vEX/BT7xl4D+DkfxB134d6PB4Z8XeCtS8a+DorfXGkvHhtIEuUt79fKCRSTW0iygxNIsbBoyWIDn2z42/tD+Kvg/8AtC/Dfw+vh3Q9U8K/EDVv7CSSHU5P7aiuPstzdPcrbeV5ZtoUtx5jGUMBJkcgK/T/AGlLpFb3001Xoc/9nx/mfbXX8z59vv2Zdc06xmuJNE+I4jt42lfFlpPRQSf+Xn2rs/CP7DFr478GaXrVj401j7FrVjDfQeZpNuriOWNXXcN3BwwyPWvqHxz/AMiTrH/XjN/6Laub/ZnH/GOHw+/7FrTv/SWOtJZhVlT5lprb+rijg4Rqcr10v+XY811H9gzQofhXofhrRtSvNHGk3T3s12tvHPPqUrx+Wzy7sDPpjhQABxXP/wDDvH/qdNT/APBXb/8AxVfUVGK5Y4+vHaR0ywtJ7o+Wbv8A4JzLf2ksEnjTVvLmQxtt0u3DYPBwd3Wr2s/8E7tHW7hGh65qGh2MNrDbC1SziuNzRqQZWdiCzvnLE9/bivpjGKKf9oV735hfU6XY+Xf+HeP/AFOmp/8Agrt//iqm0v8A4JzaRPrunza5r2oa5p9jOLh7B7OKCK6ZeiyMpLbM8lRjdjGcE19OYo6U/wC0K+3ML6nS7FfT7GOytkjjVUSNQqqo2qoHAAA4AHTAqab/AFTfQ06gjIrhvrc6jz79kv8A5NV+Gf8A2Kml/wDpHFWV4g/Yv8A+Lv8Aha39r6W+pD4yYTxEZXCymIafbWAiglQLJEnl2sTgBsrKWcEEjFjSf2SPCegaVa2FhfeO7GxsYkt7a2g8a6xHFbxIAqIii5wqqoAAHAAAqx/wy94e/wCgx8Q//C41n/5Jrqq+xlNyUnq+y/zOWn7WMFGy0Xf/AIB5rL/wTO8N6rpt1ca14++KXiDxobvTbzTvGd/qlr/bmhPp/m/ZRbGO2S2CgT3CuJIH88XEom80NU+gf8E4NA8IeKfCfiHRfHvxL0rxP4bn1a5vdYivrKW68UPqk1jNefbxLavGwdtOtAogSERrGFTavA9D/wCGXvD3/QY+If8A4XGs/wDyTR/wy94e/wCgx8Q//C41n/5JqOWj/M/uX+ZpzVf5V9//AADN/ZP/AGTrX9krwxqekaf4y8beLrXVL2XUZH8STWdxcLcSyPJNKZobaGSWSR3JZ5mkb5VAIVQK0/jl/wAj18J/+xuf/wBNGp0n/DL3h7/oMfEP/wALjWf/AJJq1oH7N/hvw/4m03VhP4q1C80eZrizGp+JtR1CGCVoniMginndN3lySKGK5Ac4xmrpulB8yb2fTurdyJqrJWst117NPsd5RRRXKdIUUUUAFFFFABRRRQAUUUUAFFFFABRRRQAUUUUAFFFFABRRRQAUUUUAFFFFABRRRQAUUUUAFFFFABRRRQAUUUUAFFFFABRRRQAUUUUAFFFFABRRRQAUUUUAFZ/iv/kVtS/69Zf/AEA1oVn+K/8AkVtS/wCvWX/0A047gfme3/Im/wDbkP8A0AV9hf8ABQb/AJI5of8A2MFt/wCiJ6+PW/5E3/tyH/oAr7C/4KDf8kc0P/sYLb/0RPX0uM/3il6v9DxcP/Dqeh5L+xL/AMnFWP8A2DLr/wBp079tz/k4i7/7Bdr/ADkpv7Ev/JxVj/2DLr/2nTv23P8Ak4i7/wCwXa/zkpf8x3/boL/dfmesf8E7v+ST+Iv+xjn/APSa1r36vAf+Cd3/ACSfxF/2Mc//AKTWte/V4mN/jy9T08L/AAo+gUUUVym4UUUUAFI/3D9KWkf7h+lAA3VfrS0jdV+tLQAUUUUAFFFFABRRRQB8Vft+f8l7uf8AsW7b/wBG3lfMnwY/5Cs3/XsP/Qlr6b/b8/5L3c/9i3bf+jbyvmT4Mf8AIVm/69h/6EtfZZf/ALqvl+Z83iv4/wA2czqf/ITuv+uz/wDoRqvJIIo2ZvuqMmrGp/8AITuv+uz/APoRqTRfDGoeNtXg0fSbOa/1PUSYre3iGWkbBP4ADJLHAABJIAr2IySjd7HmtNysj0bwf+xF8W/HnhHTdc0vwlaTafq9rHeWrvrVsjNHIoZCRngkEcdq+lPhX+z5r/wv+AviDwnb/DXW31rxXpdxYalrJ1XTWYvNC0fyp54PlR7ztTIzjJOTXvP7KaGL9mbwAjY3R+H7JDg5GRCgNfM37RX/AAVkvf2dv2kfiT4ZuPDei69ofw306bUL2ysL6Q695EegSat9tePYYo7Qyoln5jsuJJ0OTytfIYzN6s5ODSsn59PmfQYXLoKClzO7Xl1+RueJfhP8WvirrnhZvG3hr7XofhmGeCTT9BFpp8mrRyxojQTSy6hKVhOwFlQBmA27gpYGn8Xv2d/H3xH+I17rmn+C7zRrW6gt4EsWm0+RbcQxiMBSt2o24AwNvFXvFf7dHxM+FHj1vhz4o8K+CZviRrx0D/hHn0zULk6Of7TnvYZRctJGJF+y/YJnJQfvlZAoRtwXpPgP+2v4n8c/H9Php4n8N6PYeINI1PW9H1u6067eS1aWyttKvbeW3DDdsmtdWt2ZX+aORXTLABjzRzKommorT19e5v8A2fDX3nr6f5HG/Cn9l7xB8OrfxNeXXw91rVvEniCzmsItQ/tDTY49Nikj2HyozcMdx6s27JHAwM54yb9krxXLq+i+HfEUV14ftfEsx06K++zWtxsdYmk+6l2xBKxsAdpAOMjFfSv7Lnx48X/FDx/8RfDXi7S/DcV14GvrW1XUPD91LcWMzzwCZ7VjKob7RACm/HGJU4U5FbvxzH/Fwfhh/wBjE3/pHcVpRzGpKb0WqffonbdkVcHGMU7vRrt1a8joPhJ8J9G+D3guy0PQ7NbOwskwqk7nkY/ekdv4nY8lv5DArmvhkMftNfFI9vs+jD/yDPXp1cH44/Zm8F/EXxXPrmqaXdNqt1DHBPcWup3dmZ0j3eWHEMqBtu9sEgkA4rhp1U3L2jfvLffqn3XY6qlOXu+zS0fp0a7PuX/iH8EvD/xS8YeDdc1q2kurzwLqMuq6Upf90s8lrNalnTo+I55MZ6NtYcgV5/f/ALAvgbUPjDN4ukuvFIt7rW4/E9z4cXV5BoNzq0YUJfva9DKCiNjcIy6K5QuN1bn/AAxr8P8A/oHa3/4Ump//ACRR/wAMa/D/AP6B2t/+FJqf/wAkUctD+Z/+Ar/5IOav/Kvvf/yJ57F/wSt+GX/CHa14duL3xxqHh/UPD194V0vTrrxBNLB4V028AWaDTgeYflVFVmLsixoikIAtdJ4Z/YW0fw58Z9D8fN46+J+qeItC04aSsmoa6LiK6tfOMzxSRmPGHfYXKbC4hhDEiNcb3/DGvw//AOgdrf8A4Ump/wDyRR/wxr8P/wDoHa3/AOFJqf8A8kUctD+Z/wDgK/8Akg5q/wDKvvf/AMid743Uv4L1hVBJNlMAB3+Rq5z9mb/k2/4f/wDYtad/6Sx1hT/sXfDu5geOTTNakjkUo6t4j1IhgRgg/wCkdxXpWhaHaeGNEs9N0+3jtbHT4EtraCMYWGNFCoo9goA/Cicqap8kG3rfVW/VhGNRz55pLS2jv+iLVFFFc50BRRRQAUUUUAFFFFABRRRQAUUUUAFFFFABRRRQAUUUUAFFFFABRRRQAUUUUAFFFFABRRRQAUUUUAFFFFABRRRQAUUUUAFFFFABRRRQAUUUUAFFFFABRRRQAUUUUAFFFFABRRRQAUUUUAFFFFABRRRQAUUUUAFZ/iv/AJFbUv8Ar1l/9ANaFZ/iv/kVtS/69Zf/AEA047gfme3/ACJv/bkP/QBX2F/wUG/5I5of/YwW3/oievj1v+RN/wC3If8AoAr7C/4KDf8AJHND/wCxgtv/AERPX0uM/wB4per/AEPFw/8ADqeh5L+xL/ycVY/9gy6/9p079uBJI/2hLhvIumSTS7UKyW8jqcGTPKgik/Yk5/aKsf8AsGXX/tOvs+4sVuduS3HvXLisR7HF89r6G2Ho+0w/L5nhf/BPCKSP4Sa8zxTRiTxDOyeZG0ZYfZ7YZAYA4yCM+1e+VFbWothxUteRXqe0qOfc9ClDkgo9gooorI0CiiigApH+4fpS0j/cP0oAG6r9aWkbqv1paACiiigAooooAKKKKAPir9vz/kvdz/2Ldt/6NvK+ZPgv/wAhWb/r2H/oS19rftdfs2+LPip8VW1jQ4dLmsZtHhsf9IuzC6yI9wx42njEq8/WuCb/AIJ5a14F8KeH/wCw/wCz9S1hoJP7auZ7loVeRjGUSIbT+7QKwzwSTk9cD6jB4ylChGEnqeHiMPUlVcktD5Ij0i78Q+Kv7P0+1mvb++u2ht7eFd0kzljhQP8AOK/Qb9kj9j+1/Z68D3ep6n5N54u1Czf7XOvzJZqVz9niPoP4n43kemBSfsb/ALF9v8EDca/ri2994svmcCVDuh06JiT5cRIGWbqz4yeAMDOfoYwK0TIyqysNpBHBHpXJmWae0/dU/hW/n/wDfA4Hk/eT3/I4b9lxSn7OHgYEY/4klp1/65LS6j+zV4L1ofEZNQ0aPULb4sQC28U21zI8kGqQiyWxMZQnCqbdQhC4zyepzWZH+xh8K4IwsfgXw/Gi9FSDaq/QA4H0FO/4Y1+Fv/QkaH/36P8AjXmVPYym5cz1fZf/ACR10/bRio2Wnm//AJE5Gz/4JxfDeHwrqmn3TeLtWvtUl02b+29R8R3l1rFk2mu8lh9nu2cyQ/Z3klZNpHzTSFt29s2NE/4J7fD3wxe+Gb7TZPFmn6x4Z1K91ZdUg8QXS32qXN5JFJdPey791z5phiVhJkbI0QAKoUdN/wAMa/C3/oSND/79H/Gj/hjX4W/9CRof/fo/41PLR/mf3L/5Ivmrfyr73/8AIjv2av2VvDX7KXhy+0nwrd+JZdNvrh7toNV1ifURHNJI8ssimZmYNJJIzMxJLHGegp3xyUnx/wDDE44HiJsn/tzuaj/4Y1+Fv/QkaH/36P8AjWh4U/Zf+HvgbxJa6xpPhHRbHVLEs1vcxw/vICylSVJ6EqSMjsTVU5UYPmTez6Lt6kTVWa5Wluur6O/Y7yiiiuU6gooooAKKKKACiiigAooooAKKKKACiiigAooooAKKKKACiiigAooooAKKKKACiiigAooooAKKKKACiiigAooooAKKKKACiiigAooooAKKKKACiiigAooooAKKKKACiiigAooooAKKKKACiiigAooooAKKKKACiiigAooooAKKKKACiiigArP8V/8AIral/wBesv8A6Aa0Kz/Ff/Iral/16y/+gGnHcD8z2/5E3/tyH/oAr7C/4KDf8kc0P/sYLb/0RPXx63/Im/8AbkP/AEAV9hf8FBv+SOaH/wBjBbf+iJ6+lxn+8UvV/oeLh/4dT0PJv2JP+Ti7H/sGXX/tOvtcdK+KP2JP+Ti7H/sGXX/tOvtcdK8vNv4/yR2Zf/C+YUUUV5p3BRRRQAUUUUAFI/3D9KWkf7h+lAA3VfrS0jdV+tLQAUUUUAFFFFABRRRQAjIGPIpPKXHSnUUAIq7RxS0UUAFFFFABRRRQAUUUUAFFFFABRRRQAUUUUAFFFFABRRRQAUUUUAFFFFABRRRQAUUUUAFFFFABRRRQAUUUUAFFFFABRRRQAUUUUAFFFFABRRRQAUUUUAFFFFABRRRQAUUUUAFFFFABRRRQAUUUUAFFFFABRRRQAUUUUAFFFFABRRRQAUUUUAFFFFABRRRQAUUUUAFFFFABWf4r/wCRW1L/AK9Zf/QDWhWf4r/5FbUv+vWX/wBANOO4H5nt/wAib/25D/0AV9hf8FBv+SOaH/2MFt/6Inr49b/kTf8AtyH/AKAK+wv+Cg3/ACRzQ/8AsYLb/wBET19LjP8AeKXq/wBDxcP/AA6noeTfsSf8nF2P/YMuv/adfa46V8UfsSf8nF2P/YMuv/adfa46V5ebfx/kjsy/+F8wooorzTuCiiigAooooAKR/uH6UtI/3D9KABuq/WlprnGPrSbjQA+imbjRuNAD6KZuNG40APopm40bjQA+imbjRuNAD6KZuNG40APopm40bjQA+imbjRuNAD6KZuNG40APopm40bjQA+imbjRuNAD6KZuNG40APopm40bjQA+imbjRuNAD6KZuNG40APopm40bjQA+imbjRuNAD6KZuNG40APopm40bjQA+imbjRuNAD6KZuNG40APopm40bjQA+imbjRuNAD6KZuNG40APopm40bjQA+imbjRuNAD6KZuNG40APopm40bjQA+imbjRuNAD6KZuNG40APopm40bjQA+imbjRuNAD6KZuNG40APopm40bjQA+imbjRuNAD6KZuNG40APopm40bjQA+imbjRuNAD6KZuNG40APopm40bjQA+imbjRuNAD6KZuNG40APopm40bjQA+qfiC2e90G+hjAMk1vIiAnGSVIFWdxpCcigD4HP7JPxK/sMWf/CLKJPIEG7+1rPaDtC5/wBZnFfTP7Zfw41z4n/CzS7Pw/YrqN5aavBdyQm4jg/drFKrENIQvBdeM5r13ylz91fypxG4dvyruqZhOc4zaV4nLTwkYxcV1Plf9k74EeMvAnxrt9W1rQxp2nw2M8JlN/bzEu+zaAsbk9jz0r6sHSolRUOQqg/SnBsVjiMRKtPnka0aKpx5UPopm40bjXOaj6KZuNG40APopm40bjQA+kf7h+lN3GkZjtoA/9k=)\n",
        "\n",
        "We want to use the VGG-16 network to detect Coronavirus with deep learning. VGG network is a deep network with many parameters. The VGG network architecture is shown in the image above. In this notebook we will not go into the details of the VGG network. This network has 130 million parameters. We are not going to use all these parameters during training. We want to use VGG-trained weights on the ImageNet database. That means we will actually use **transfer learning**.\n",
        "\n",
        "To use the trained model VGG-16, we do not need to define it ourselves and then train it on ImageNet. With the help of *Tensorflow* and *Keras* we can call the VGG-16 network with its weights with only one line of code."
      ]
    },
    {
      "cell_type": "code",
      "metadata": {
        "id": "ZQj-zQ-JGiVv",
        "colab": {
          "base_uri": "https://localhost:8080/"
        },
        "outputId": "ff4d17da-a8b3-41df-bcad-68f9abd99b80"
      },
      "source": [
        "baseModel = VGG16(weights=\"imagenet\", include_top=False,\n",
        "\tinput_tensor=Input(shape=(224, 224, 3)))\n",
        "# Build the head of the model that will be placed on top of the base model\n",
        "headModel = baseModel.output\n",
        "headModel = AveragePooling2D(pool_size=(4, 4))(headModel)\n",
        "headModel = Flatten(name=\"flatten\")(headModel)\n",
        "headModel = Dense(64, activation=\"relu\")(headModel)\n",
        "headModel = Dropout(0.5)(headModel)\n",
        "headModel = Dense(1, activation=\"sigmoid\")(headModel)\n",
        "# Place the head FC model on top of the base model. This will become the actual model we will train.\n",
        "model = Model(inputs=baseModel.input, outputs=headModel)\n",
        "# Loop over all layers in the base model and freeze them so they will *not* be updated during the first training process\n",
        "for layer in baseModel.layers:\n",
        "\tlayer.trainable = False"
      ],
      "execution_count": null,
      "outputs": [
        {
          "output_type": "stream",
          "text": [
            "Downloading data from https://storage.googleapis.com/tensorflow/keras-applications/vgg16/vgg16_weights_tf_dim_ordering_tf_kernels_notop.h5\n",
            "58892288/58889256 [==============================] - 0s 0us/step\n"
          ],
          "name": "stdout"
        }
      ]
    },
    {
      "cell_type": "markdown",
      "metadata": {
        "id": "AndGhHjEvDg9"
      },
      "source": [
        "## Compile & Train\n",
        "After defining the model, we need to compile it and then train it. But before that, we need to specify some values. We consider the learning rate to be `0.001`, the batch size to be `8`, and the number of epochs to be `50`. First we define the optimizer. The optimizer we want to use is `Adam`. We also want to use `LearningRateDecay`. That means we do not want the learning rate to be constant. Rather, we want to reduce the learning rate somewhat after passing a certain number of epochs."
      ]
    },
    {
      "cell_type": "code",
      "metadata": {
        "id": "1q2hyqzfGlcU",
        "colab": {
          "base_uri": "https://localhost:8080/"
        },
        "outputId": "e81fd3c8-2155-4baf-f3c9-cc58d9eef0f1"
      },
      "source": [
        "# Compile our model\n",
        "print(\"[INFO] compiling model...\")\n",
        "opt = Adam(lr=INIT_LR, decay=INIT_LR / EPOCHS)\n",
        "model.compile(loss=\"binary_crossentropy\", optimizer=opt,\n",
        "\tmetrics=[\"accuracy\"])\n",
        "# Train the head of the network\n",
        "print(\"[INFO] training head...\")\n",
        "H = model.fit_generator(\n",
        "\ttrainAug.flow(x_train, y_train, batch_size=BS),\n",
        "\tsteps_per_epoch=len(x_train) // BS,\n",
        "\tvalidation_data=(x_test, y_test),\n",
        "\tvalidation_steps=len(x_test) // BS,\n",
        "\tepochs=EPOCHS)"
      ],
      "execution_count": null,
      "outputs": [
        {
          "output_type": "stream",
          "text": [
            "[INFO] compiling model...\n",
            "[INFO] training head...\n",
            "WARNING:tensorflow:From <ipython-input-25-83088b42e050>:13: Model.fit_generator (from tensorflow.python.keras.engine.training) is deprecated and will be removed in a future version.\n",
            "Instructions for updating:\n",
            "Please use Model.fit, which supports generators.\n",
            "Epoch 1/50\n",
            "37/37 [==============================] - 5s 147ms/step - loss: 0.5948 - accuracy: 0.6849 - val_loss: 0.4968 - val_accuracy: 0.7174\n",
            "Epoch 2/50\n",
            "37/37 [==============================] - 4s 107ms/step - loss: 0.4465 - accuracy: 0.7911 - val_loss: 0.3739 - val_accuracy: 0.9130\n",
            "Epoch 3/50\n",
            "37/37 [==============================] - 4s 109ms/step - loss: 0.3277 - accuracy: 0.9007 - val_loss: 0.2573 - val_accuracy: 0.9565\n",
            "Epoch 4/50\n",
            "37/37 [==============================] - 4s 108ms/step - loss: 0.2639 - accuracy: 0.9349 - val_loss: 0.2024 - val_accuracy: 0.9565\n",
            "Epoch 5/50\n",
            "37/37 [==============================] - 4s 108ms/step - loss: 0.2276 - accuracy: 0.9349 - val_loss: 0.1731 - val_accuracy: 0.9565\n",
            "Epoch 6/50\n",
            "37/37 [==============================] - 4s 108ms/step - loss: 0.2071 - accuracy: 0.9384 - val_loss: 0.1553 - val_accuracy: 0.9674\n",
            "Epoch 7/50\n",
            "37/37 [==============================] - 4s 110ms/step - loss: 0.1779 - accuracy: 0.9589 - val_loss: 0.1412 - val_accuracy: 0.9674\n",
            "Epoch 8/50\n",
            "37/37 [==============================] - 4s 107ms/step - loss: 0.1912 - accuracy: 0.9418 - val_loss: 0.1419 - val_accuracy: 0.9565\n",
            "Epoch 9/50\n",
            "37/37 [==============================] - 4s 107ms/step - loss: 0.1336 - accuracy: 0.9623 - val_loss: 0.1227 - val_accuracy: 0.9674\n",
            "Epoch 10/50\n",
            "37/37 [==============================] - 4s 108ms/step - loss: 0.1275 - accuracy: 0.9658 - val_loss: 0.1154 - val_accuracy: 0.9674\n",
            "Epoch 11/50\n",
            "37/37 [==============================] - 4s 109ms/step - loss: 0.1403 - accuracy: 0.9555 - val_loss: 0.1218 - val_accuracy: 0.9565\n",
            "Epoch 12/50\n",
            "37/37 [==============================] - 4s 109ms/step - loss: 0.1125 - accuracy: 0.9726 - val_loss: 0.1030 - val_accuracy: 0.9674\n",
            "Epoch 13/50\n",
            "37/37 [==============================] - 4s 108ms/step - loss: 0.1026 - accuracy: 0.9692 - val_loss: 0.0984 - val_accuracy: 0.9674\n",
            "Epoch 14/50\n",
            "37/37 [==============================] - 4s 108ms/step - loss: 0.1074 - accuracy: 0.9658 - val_loss: 0.0968 - val_accuracy: 0.9674\n",
            "Epoch 15/50\n",
            "37/37 [==============================] - 4s 110ms/step - loss: 0.1025 - accuracy: 0.9692 - val_loss: 0.0962 - val_accuracy: 0.9674\n",
            "Epoch 16/50\n",
            "37/37 [==============================] - 4s 109ms/step - loss: 0.1051 - accuracy: 0.9555 - val_loss: 0.0927 - val_accuracy: 0.9674\n",
            "Epoch 17/50\n",
            "37/37 [==============================] - 4s 108ms/step - loss: 0.0750 - accuracy: 0.9795 - val_loss: 0.0892 - val_accuracy: 0.9674\n",
            "Epoch 18/50\n",
            "37/37 [==============================] - 4s 109ms/step - loss: 0.0739 - accuracy: 0.9760 - val_loss: 0.0883 - val_accuracy: 0.9674\n",
            "Epoch 19/50\n",
            "37/37 [==============================] - 4s 109ms/step - loss: 0.1031 - accuracy: 0.9726 - val_loss: 0.0975 - val_accuracy: 0.9565\n",
            "Epoch 20/50\n",
            "37/37 [==============================] - 4s 109ms/step - loss: 0.0837 - accuracy: 0.9692 - val_loss: 0.0843 - val_accuracy: 0.9674\n",
            "Epoch 21/50\n",
            "37/37 [==============================] - 4s 111ms/step - loss: 0.0735 - accuracy: 0.9829 - val_loss: 0.0799 - val_accuracy: 0.9674\n",
            "Epoch 22/50\n",
            "37/37 [==============================] - 4s 110ms/step - loss: 0.0538 - accuracy: 0.9863 - val_loss: 0.0768 - val_accuracy: 0.9674\n",
            "Epoch 23/50\n",
            "37/37 [==============================] - 4s 109ms/step - loss: 0.0710 - accuracy: 0.9829 - val_loss: 0.0757 - val_accuracy: 0.9674\n",
            "Epoch 24/50\n",
            "37/37 [==============================] - 4s 108ms/step - loss: 0.0441 - accuracy: 0.9932 - val_loss: 0.0764 - val_accuracy: 0.9674\n",
            "Epoch 25/50\n",
            "37/37 [==============================] - 4s 108ms/step - loss: 0.0826 - accuracy: 0.9760 - val_loss: 0.0760 - val_accuracy: 0.9674\n",
            "Epoch 26/50\n",
            "37/37 [==============================] - 4s 108ms/step - loss: 0.0830 - accuracy: 0.9760 - val_loss: 0.0719 - val_accuracy: 0.9674\n",
            "Epoch 27/50\n",
            "37/37 [==============================] - 4s 109ms/step - loss: 0.0638 - accuracy: 0.9899 - val_loss: 0.0749 - val_accuracy: 0.9674\n",
            "Epoch 28/50\n",
            "37/37 [==============================] - 4s 108ms/step - loss: 0.0474 - accuracy: 0.9863 - val_loss: 0.0724 - val_accuracy: 0.9674\n",
            "Epoch 29/50\n",
            "37/37 [==============================] - 4s 109ms/step - loss: 0.0548 - accuracy: 0.9863 - val_loss: 0.0720 - val_accuracy: 0.9674\n",
            "Epoch 30/50\n",
            "37/37 [==============================] - 4s 109ms/step - loss: 0.0608 - accuracy: 0.9797 - val_loss: 0.0812 - val_accuracy: 0.9674\n",
            "Epoch 31/50\n",
            "37/37 [==============================] - 4s 108ms/step - loss: 0.0575 - accuracy: 0.9863 - val_loss: 0.0701 - val_accuracy: 0.9674\n",
            "Epoch 32/50\n",
            "37/37 [==============================] - 4s 108ms/step - loss: 0.0490 - accuracy: 0.9863 - val_loss: 0.0711 - val_accuracy: 0.9674\n",
            "Epoch 33/50\n",
            "37/37 [==============================] - 4s 108ms/step - loss: 0.0727 - accuracy: 0.9760 - val_loss: 0.0636 - val_accuracy: 0.9674\n",
            "Epoch 34/50\n",
            "37/37 [==============================] - 4s 110ms/step - loss: 0.0512 - accuracy: 0.9865 - val_loss: 0.0633 - val_accuracy: 0.9674\n",
            "Epoch 35/50\n",
            "37/37 [==============================] - 4s 108ms/step - loss: 0.0438 - accuracy: 0.9897 - val_loss: 0.0660 - val_accuracy: 0.9674\n",
            "Epoch 36/50\n",
            "37/37 [==============================] - 4s 107ms/step - loss: 0.0314 - accuracy: 0.9932 - val_loss: 0.0623 - val_accuracy: 0.9674\n",
            "Epoch 37/50\n",
            "37/37 [==============================] - 4s 108ms/step - loss: 0.0303 - accuracy: 0.9966 - val_loss: 0.0605 - val_accuracy: 0.9674\n",
            "Epoch 38/50\n",
            "37/37 [==============================] - 4s 108ms/step - loss: 0.0413 - accuracy: 0.9897 - val_loss: 0.0600 - val_accuracy: 0.9674\n",
            "Epoch 39/50\n",
            "37/37 [==============================] - 4s 109ms/step - loss: 0.0386 - accuracy: 0.9863 - val_loss: 0.0601 - val_accuracy: 0.9674\n",
            "Epoch 40/50\n",
            "37/37 [==============================] - 4s 109ms/step - loss: 0.0515 - accuracy: 0.9863 - val_loss: 0.0603 - val_accuracy: 0.9674\n",
            "Epoch 41/50\n",
            "37/37 [==============================] - 4s 108ms/step - loss: 0.0549 - accuracy: 0.9760 - val_loss: 0.0577 - val_accuracy: 0.9674\n",
            "Epoch 42/50\n",
            "37/37 [==============================] - 4s 108ms/step - loss: 0.0492 - accuracy: 0.9863 - val_loss: 0.0583 - val_accuracy: 0.9783\n",
            "Epoch 43/50\n",
            "37/37 [==============================] - 4s 110ms/step - loss: 0.0625 - accuracy: 0.9760 - val_loss: 0.0674 - val_accuracy: 0.9674\n",
            "Epoch 44/50\n",
            "37/37 [==============================] - 4s 110ms/step - loss: 0.0441 - accuracy: 0.9897 - val_loss: 0.0584 - val_accuracy: 0.9783\n",
            "Epoch 45/50\n",
            "37/37 [==============================] - 4s 109ms/step - loss: 0.0321 - accuracy: 1.0000 - val_loss: 0.0546 - val_accuracy: 0.9674\n",
            "Epoch 46/50\n",
            "37/37 [==============================] - 4s 108ms/step - loss: 0.0332 - accuracy: 0.9897 - val_loss: 0.0569 - val_accuracy: 0.9674\n",
            "Epoch 47/50\n",
            "37/37 [==============================] - 4s 108ms/step - loss: 0.0249 - accuracy: 0.9966 - val_loss: 0.0546 - val_accuracy: 0.9783\n",
            "Epoch 48/50\n",
            "37/37 [==============================] - 4s 109ms/step - loss: 0.0457 - accuracy: 0.9863 - val_loss: 0.0533 - val_accuracy: 0.9674\n",
            "Epoch 49/50\n",
            "37/37 [==============================] - 4s 109ms/step - loss: 0.0425 - accuracy: 0.9897 - val_loss: 0.0539 - val_accuracy: 0.9674\n",
            "Epoch 50/50\n",
            "37/37 [==============================] - 4s 109ms/step - loss: 0.0274 - accuracy: 0.9966 - val_loss: 0.0522 - val_accuracy: 0.9674\n"
          ],
          "name": "stdout"
        }
      ]
    },
    {
      "cell_type": "markdown",
      "metadata": {
        "id": "n8WBvnWaEc2t"
      },
      "source": [
        "# **Prediction & Results**\n",
        "We must first see what the network does for test data. To do this, just use the command `model.predict`"
      ]
    },
    {
      "cell_type": "code",
      "metadata": {
        "id": "ax8loRHIqXri",
        "colab": {
          "base_uri": "https://localhost:8080/"
        },
        "outputId": "083c3284-7c06-4c77-c08a-2ae56ccf4e8f"
      },
      "source": [
        "model.predict(x_test)"
      ],
      "execution_count": null,
      "outputs": [
        {
          "output_type": "execute_result",
          "data": {
            "text/plain": [
              "array([[3.52767020e-05],\n",
              "       [2.14632927e-03],\n",
              "       [4.35577426e-03],\n",
              "       [2.06957757e-03],\n",
              "       [1.62210269e-03],\n",
              "       [9.78642725e-04],\n",
              "       [1.73669934e-04],\n",
              "       [2.57528911e-04],\n",
              "       [4.59394359e-04],\n",
              "       [8.50863568e-03],\n",
              "       [4.14766977e-03],\n",
              "       [5.63721813e-04],\n",
              "       [1.21321634e-03],\n",
              "       [2.07732301e-04],\n",
              "       [5.01645030e-04],\n",
              "       [1.67452963e-05],\n",
              "       [1.64174251e-02],\n",
              "       [1.11259105e-04],\n",
              "       [1.95482910e-01],\n",
              "       [1.15467538e-03],\n",
              "       [3.90894897e-03],\n",
              "       [6.36386037e-01],\n",
              "       [8.72431975e-03],\n",
              "       [1.29442476e-03],\n",
              "       [2.05388246e-03],\n",
              "       [2.95475853e-04],\n",
              "       [1.94190201e-04],\n",
              "       [5.26328571e-04],\n",
              "       [5.34044229e-04],\n",
              "       [2.42876675e-04],\n",
              "       [6.37411431e-04],\n",
              "       [1.19003979e-03],\n",
              "       [3.57999350e-04],\n",
              "       [8.49543838e-04],\n",
              "       [8.55815379e-05],\n",
              "       [5.01169998e-04],\n",
              "       [7.29122490e-04],\n",
              "       [7.90124297e-01],\n",
              "       [7.34321438e-05],\n",
              "       [4.28631727e-04],\n",
              "       [1.85234985e-05],\n",
              "       [3.18259699e-03],\n",
              "       [8.19705485e-04],\n",
              "       [5.87849412e-04],\n",
              "       [3.63414921e-03],\n",
              "       [5.62164176e-04],\n",
              "       [9.97979343e-01],\n",
              "       [9.98399198e-01],\n",
              "       [9.99691129e-01],\n",
              "       [9.99675274e-01],\n",
              "       [9.99903917e-01],\n",
              "       [7.71245480e-01],\n",
              "       [9.99905705e-01],\n",
              "       [9.99878407e-01],\n",
              "       [9.96592045e-01],\n",
              "       [9.99234438e-01],\n",
              "       [9.99195278e-01],\n",
              "       [9.82251883e-01],\n",
              "       [9.94233906e-01],\n",
              "       [9.99597609e-01],\n",
              "       [9.99956727e-01],\n",
              "       [9.99957442e-01],\n",
              "       [9.99865770e-01],\n",
              "       [9.96461451e-01],\n",
              "       [9.94526327e-01],\n",
              "       [9.99884129e-01],\n",
              "       [9.99799192e-01],\n",
              "       [9.89781857e-01],\n",
              "       [9.95354533e-01],\n",
              "       [9.95076954e-01],\n",
              "       [9.99924779e-01],\n",
              "       [9.96754229e-01],\n",
              "       [9.99884486e-01],\n",
              "       [9.99718964e-01],\n",
              "       [9.99804318e-01],\n",
              "       [9.99116600e-01],\n",
              "       [9.96517420e-01],\n",
              "       [9.99881983e-01],\n",
              "       [9.96341765e-01],\n",
              "       [9.99959588e-01],\n",
              "       [9.35498953e-01],\n",
              "       [9.99968767e-01],\n",
              "       [9.98941958e-01],\n",
              "       [9.98985469e-01],\n",
              "       [2.20268250e-01],\n",
              "       [9.99671221e-01],\n",
              "       [9.98974681e-01],\n",
              "       [9.99843121e-01],\n",
              "       [9.99833107e-01],\n",
              "       [9.87648487e-01],\n",
              "       [9.99534965e-01],\n",
              "       [9.99480665e-01]], dtype=float32)"
            ]
          },
          "metadata": {
            "tags": []
          },
          "execution_count": 26
        }
      ]
    },
    {
      "cell_type": "markdown",
      "metadata": {
        "id": "HOW8zZhzwjCG"
      },
      "source": [
        "## Confusion matrix\n",
        "One way to evaluate network performance in classification problems is to use a confusion matrix. We can still use `ScikitLearn` to create the confusion matrix. To do this, call `sklearn.metrics` from the `confusion_matrix` command. Now we can calculate the **Accuracy**, **Sensitivity** and **Specificity** values using the confusion matrix."
      ]
    },
    {
      "cell_type": "code",
      "metadata": {
        "id": "90LWTRpDVYaN",
        "colab": {
          "base_uri": "https://localhost:8080/"
        },
        "outputId": "d995030a-f1d4-43f0-f6b0-2c02e0490f98"
      },
      "source": [
        "th = np.linspace(0.2, 0.8, 7)\n",
        "all_cms = []\n",
        "all_sens = []\n",
        "all_spec = []\n",
        "all_acc = []\n",
        "for t in th:\n",
        "    preds = model.predict(x_test)\n",
        "    preds[preds > t] = 1\n",
        "    preds[preds < t] = 0\n",
        "    cm = confusion_matrix(y_test, preds)\n",
        "    total = sum(sum(cm))\n",
        "    acc = (cm[0, 0] + cm[1, 1]) / total\n",
        "    all_acc.append(acc)\n",
        "    sensitivity = cm[0, 0] / (cm[0, 0] + cm[0, 1])\n",
        "    specificity = cm[1, 1] / (cm[1, 0] + cm[1, 1])\n",
        "    all_cms.append(cm)\n",
        "    all_sens.append(sensitivity)\n",
        "    all_spec.append(specificity)\n",
        "print('Best accuracy: ', all_acc[np.argmax(all_acc)])\n",
        "print('Threshold: ', th[np.argmax(all_acc)])\n",
        "print('Confusion matrix: ', '\\n', all_cms[np.argmax(all_acc)])\n",
        "print('Sensitivity: ', all_sens[np.argmax(all_acc)])\n",
        "print('Specificity: ', all_spec[np.argmax(all_acc)])\n",
        "\n"
      ],
      "execution_count": null,
      "outputs": [
        {
          "output_type": "stream",
          "text": [
            "Best accuracy:  0.9782608695652174\n",
            "Threshold:  0.2\n",
            "Confusion matrix:  \n",
            " [[44  2]\n",
            " [ 0 46]]\n",
            "Sensitivity:  0.9565217391304348\n",
            "Specificity:  1.0\n"
          ],
          "name": "stdout"
        }
      ]
    }
  ]
}